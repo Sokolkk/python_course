{
  "nbformat": 4,
  "nbformat_minor": 0,
  "metadata": {
    "colab": {
      "name": "Python_Course.ipynb",
      "provenance": [],
      "include_colab_link": true
    },
    "kernelspec": {
      "name": "python3",
      "display_name": "Python 3"
    },
    "language_info": {
      "name": "python"
    }
  },
  "cells": [
    {
      "cell_type": "markdown",
      "metadata": {
        "id": "view-in-github",
        "colab_type": "text"
      },
      "source": [
        "<a href=\"https://colab.research.google.com/github/Sokolkk/python_course/blob/main/Python_Course.ipynb\" target=\"_parent\"><img src=\"https://colab.research.google.com/assets/colab-badge.svg\" alt=\"Open In Colab\"/></a>"
      ]
    },
    {
      "cell_type": "code",
      "metadata": {
        "colab": {
          "base_uri": "https://localhost:8080/"
        },
        "id": "wjy3w28hGVgg",
        "outputId": "97414622-57dc-448c-ac90-de6e6eb764f2"
      },
      "source": [
        "!python --version"
      ],
      "execution_count": null,
      "outputs": [
        {
          "output_type": "stream",
          "text": [
            "Python 3.7.10\n"
          ],
          "name": "stdout"
        }
      ]
    },
    {
      "cell_type": "code",
      "metadata": {
        "colab": {
          "base_uri": "https://localhost:8080/"
        },
        "id": "akohzXpZH4VZ",
        "outputId": "f5fc044e-19c6-43b3-a264-e2ea03bff742"
      },
      "source": [
        "!python helloworld.py"
      ],
      "execution_count": null,
      "outputs": [
        {
          "output_type": "stream",
          "text": [
            "Hello, World\n"
          ],
          "name": "stdout"
        }
      ]
    },
    {
      "cell_type": "code",
      "metadata": {
        "colab": {
          "base_uri": "https://localhost:8080/"
        },
        "id": "miySVjY3IDLU",
        "outputId": "7ded16b6-79c7-4e07-fc6d-437991fe0b70"
      },
      "source": [
        "print(\"hello, world\")"
      ],
      "execution_count": null,
      "outputs": [
        {
          "output_type": "stream",
          "text": [
            "hello, world\n"
          ],
          "name": "stdout"
        }
      ]
    },
    {
      "cell_type": "markdown",
      "metadata": {
        "id": "yWPne66uK01r"
      },
      "source": [
        "Отступы"
      ]
    },
    {
      "cell_type": "code",
      "metadata": {
        "colab": {
          "base_uri": "https://localhost:8080/"
        },
        "id": "R_2eSTs7KdBo",
        "outputId": "9c00318f-6835-4314-b97c-fcfa65b9b1bb"
      },
      "source": [
        "if 5>2:\n",
        "  print(\"пять больше чем два\")\n",
        "  print(\"пять больше чем два\")"
      ],
      "execution_count": null,
      "outputs": [
        {
          "output_type": "stream",
          "text": [
            "пять больше чем два\n",
            "пять больше чем два\n"
          ],
          "name": "stdout"
        }
      ]
    },
    {
      "cell_type": "markdown",
      "metadata": {
        "id": "onX-hfZsM9Gi"
      },
      "source": [
        "Комментарии\n"
      ]
    },
    {
      "cell_type": "code",
      "metadata": {
        "colab": {
          "base_uri": "https://localhost:8080/"
        },
        "id": "UKVKKoMpNPIx",
        "outputId": "9975e224-ac59-4e21-fc6e-4df81132363c"
      },
      "source": [
        "\"\"\"\n",
        "это комментарий.\n",
        "это комментарий.\n",
        "\"\"\"\n",
        "\n",
        "print(\"Hello, World!\") #это комментарий."
      ],
      "execution_count": null,
      "outputs": [
        {
          "output_type": "stream",
          "text": [
            "Hello, World!\n"
          ],
          "name": "stdout"
        }
      ]
    },
    {
      "cell_type": "markdown",
      "metadata": {
        "id": "MZdvmJr1MQNx"
      },
      "source": [
        "Переменные"
      ]
    },
    {
      "cell_type": "code",
      "metadata": {
        "colab": {
          "base_uri": "https://localhost:8080/"
        },
        "id": "B2yb5DAEMXMm",
        "outputId": "25e0a40d-e914-4f14-a50b-027fe4fe7976"
      },
      "source": [
        "x = str(2) \n",
        "y = int(2)\n",
        "z = float(2)\n",
        "print(type(x))\n",
        "print(type(y))\n",
        "print(z)"
      ],
      "execution_count": null,
      "outputs": [
        {
          "output_type": "stream",
          "text": [
            "<class 'str'>\n",
            "<class 'int'>\n",
            "2.0\n"
          ],
          "name": "stdout"
        }
      ]
    },
    {
      "cell_type": "code",
      "metadata": {
        "id": "Iaxt4LDkQUUf"
      },
      "source": [
        "x = '2'\n",
        "y = \"2\""
      ],
      "execution_count": null,
      "outputs": []
    },
    {
      "cell_type": "code",
      "metadata": {
        "colab": {
          "base_uri": "https://localhost:8080/"
        },
        "id": "5J1vX6OjQvlB",
        "outputId": "f00889d9-36d4-4003-dd64-708499cc9330"
      },
      "source": [
        "x = 2 \n",
        "X = 3\n",
        "print(x)"
      ],
      "execution_count": null,
      "outputs": [
        {
          "output_type": "stream",
          "text": [
            "2\n"
          ],
          "name": "stdout"
        }
      ]
    },
    {
      "cell_type": "markdown",
      "metadata": {
        "id": "K2eeLOVKR6uW"
      },
      "source": [
        "недопустимые имена переменных"
      ]
    },
    {
      "cell_type": "code",
      "metadata": {
        "id": "LeCkhJ-zRKz7"
      },
      "source": [
        "2myvar = \"2\"\n",
        "my-var = \"2\"\n",
        "my var = \"2\""
      ],
      "execution_count": null,
      "outputs": []
    },
    {
      "cell_type": "code",
      "metadata": {
        "id": "fwk39C4qSkHv"
      },
      "source": [
        "MyVariableName =\"Pascal Case\"\n",
        "myVariableName = \"Camel Case\"\n",
        "my_variable_name = \"Snake Case\""
      ],
      "execution_count": null,
      "outputs": []
    },
    {
      "cell_type": "code",
      "metadata": {
        "colab": {
          "base_uri": "https://localhost:8080/"
        },
        "id": "2X4h40yeTWFR",
        "outputId": "b38db1e2-a232-4509-f02c-106a417170b7"
      },
      "source": [
        "x, y, z = 1, 2, 3\n",
        "print(x)\n",
        "print(y)\n",
        "print(z)"
      ],
      "execution_count": null,
      "outputs": [
        {
          "output_type": "stream",
          "text": [
            "1\n",
            "2\n",
            "3\n"
          ],
          "name": "stdout"
        }
      ]
    },
    {
      "cell_type": "code",
      "metadata": {
        "colab": {
          "base_uri": "https://localhost:8080/"
        },
        "id": "Ex2b3j3QTybS",
        "outputId": "a3b8e69a-6e16-4e35-ad72-1620e4756b62"
      },
      "source": [
        "x = y = z = 1\n",
        "print(x)\n",
        "print(y)\n",
        "print(z)"
      ],
      "execution_count": null,
      "outputs": [
        {
          "output_type": "stream",
          "text": [
            "1\n",
            "1\n",
            "1\n"
          ],
          "name": "stdout"
        }
      ]
    },
    {
      "cell_type": "code",
      "metadata": {
        "colab": {
          "base_uri": "https://localhost:8080/"
        },
        "id": "YWRjALUjUBTi",
        "outputId": "e4dba66c-83a5-4e7d-fe4c-f233d34a8c57"
      },
      "source": [
        "numbers = [1, 2, 3]\n",
        "x, y, z = numbers\n",
        "print(x)\n",
        "print(y)\n",
        "print(z)"
      ],
      "execution_count": null,
      "outputs": [
        {
          "output_type": "stream",
          "text": [
            "1\n",
            "2\n",
            "3\n"
          ],
          "name": "stdout"
        }
      ]
    },
    {
      "cell_type": "code",
      "metadata": {
        "colab": {
          "base_uri": "https://localhost:8080/"
        },
        "id": "AlZmJBeAVP_f",
        "outputId": "809b98ea-177e-40c9-9f61-61877cbb37ac"
      },
      "source": [
        "x = \"интересен\"\n",
        "y = \"питон \"\n",
        "print(y + x)"
      ],
      "execution_count": null,
      "outputs": [
        {
          "output_type": "stream",
          "text": [
            "питон интересен\n"
          ],
          "name": "stdout"
        }
      ]
    },
    {
      "cell_type": "code",
      "metadata": {
        "colab": {
          "base_uri": "https://localhost:8080/"
        },
        "id": "QbDPmQDcWIV0",
        "outputId": "8669e3db-eff9-4f14-f667-8665e6b163b6"
      },
      "source": [
        "x = 2\n",
        "y = 3\n",
        "print(y + x)"
      ],
      "execution_count": null,
      "outputs": [
        {
          "output_type": "stream",
          "text": [
            "5\n"
          ],
          "name": "stdout"
        }
      ]
    },
    {
      "cell_type": "code",
      "metadata": {
        "colab": {
          "base_uri": "https://localhost:8080/"
        },
        "id": "Ta7ZrZ33Ws6B",
        "outputId": "bd7f1453-b33f-4c56-ea5d-541c20eab88c"
      },
      "source": [
        "x = \"интересен\"\n",
        "\n",
        "def myfunc():\n",
        "  global x\n",
        "  x = \"не интересен\"\n",
        "  print(\"питон \" + x)\n",
        "\n",
        "myfunc()\n",
        "print(\"питон \" + x)\n"
      ],
      "execution_count": null,
      "outputs": [
        {
          "output_type": "stream",
          "text": [
            "питон не интересен\n",
            "питон не интересен\n"
          ],
          "name": "stdout"
        }
      ]
    },
    {
      "cell_type": "markdown",
      "metadata": {
        "id": "dln35cBPOjSA"
      },
      "source": [
        "Типы данных"
      ]
    },
    {
      "cell_type": "code",
      "metadata": {
        "id": "1SGEIx4WONQG"
      },
      "source": [
        "Text Type:\tstr\n",
        "Numeric Types:\tint, float, complex\n",
        "Sequence Types:\tlist, tuple, range\n",
        "Mapping Type:\tdict\n",
        "Set Types:\tset, frozenset\n",
        "Boolean Type:\tbool\n",
        "Binary Types:\tbytes, bytearray, memoryview"
      ],
      "execution_count": null,
      "outputs": []
    }
  ]
}