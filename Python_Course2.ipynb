{
  "nbformat": 4,
  "nbformat_minor": 0,
  "metadata": {
    "colab": {
      "name": "Python_Course.ipynb",
      "provenance": [],
      "include_colab_link": true
    },
    "kernelspec": {
      "name": "python3",
      "display_name": "Python 3"
    },
    "language_info": {
      "name": "python"
    }
  },
  "cells": [
    {
      "cell_type": "markdown",
      "metadata": {
        "id": "view-in-github",
        "colab_type": "text"
      },
      "source": [
        "<a href=\"https://colab.research.google.com/github/Sokolkk/python_course/blob/main/Python_Course2.ipynb\" target=\"_parent\"><img src=\"https://colab.research.google.com/assets/colab-badge.svg\" alt=\"Open In Colab\"/></a>"
      ]
    },
    {
      "cell_type": "code",
      "metadata": {
        "colab": {
          "base_uri": "https://localhost:8080/"
        },
        "id": "wjy3w28hGVgg",
        "outputId": "97414622-57dc-448c-ac90-de6e6eb764f2"
      },
      "source": [
        "!python --version"
      ],
      "execution_count": null,
      "outputs": [
        {
          "output_type": "stream",
          "text": [
            "Python 3.7.10\n"
          ],
          "name": "stdout"
        }
      ]
    },
    {
      "cell_type": "code",
      "metadata": {
        "colab": {
          "base_uri": "https://localhost:8080/"
        },
        "id": "akohzXpZH4VZ",
        "outputId": "f5fc044e-19c6-43b3-a264-e2ea03bff742"
      },
      "source": [
        "!python helloworld.py"
      ],
      "execution_count": null,
      "outputs": [
        {
          "output_type": "stream",
          "text": [
            "Hello, World\n"
          ],
          "name": "stdout"
        }
      ]
    },
    {
      "cell_type": "code",
      "metadata": {
        "colab": {
          "base_uri": "https://localhost:8080/"
        },
        "id": "miySVjY3IDLU",
        "outputId": "7ded16b6-79c7-4e07-fc6d-437991fe0b70"
      },
      "source": [
        "print(\"hello, world\")"
      ],
      "execution_count": null,
      "outputs": [
        {
          "output_type": "stream",
          "text": [
            "hello, world\n"
          ],
          "name": "stdout"
        }
      ]
    },
    {
      "cell_type": "markdown",
      "metadata": {
        "id": "yWPne66uK01r"
      },
      "source": [
        "Отступы"
      ]
    },
    {
      "cell_type": "code",
      "metadata": {
        "colab": {
          "base_uri": "https://localhost:8080/"
        },
        "id": "R_2eSTs7KdBo",
        "outputId": "9c00318f-6835-4314-b97c-fcfa65b9b1bb"
      },
      "source": [
        "if 5>2:\n",
        "  print(\"пять больше чем два\")\n",
        "  print(\"пять больше чем два\")"
      ],
      "execution_count": null,
      "outputs": [
        {
          "output_type": "stream",
          "text": [
            "пять больше чем два\n",
            "пять больше чем два\n"
          ],
          "name": "stdout"
        }
      ]
    },
    {
      "cell_type": "markdown",
      "metadata": {
        "id": "onX-hfZsM9Gi"
      },
      "source": [
        "Комментарии\n"
      ]
    },
    {
      "cell_type": "code",
      "metadata": {
        "colab": {
          "base_uri": "https://localhost:8080/"
        },
        "id": "UKVKKoMpNPIx",
        "outputId": "9975e224-ac59-4e21-fc6e-4df81132363c"
      },
      "source": [
        "\"\"\"\n",
        "это комментарий.\n",
        "это комментарий.\n",
        "\"\"\"\n",
        "\n",
        "print(\"Hello, World!\") #это комментарий."
      ],
      "execution_count": null,
      "outputs": [
        {
          "output_type": "stream",
          "text": [
            "Hello, World!\n"
          ],
          "name": "stdout"
        }
      ]
    },
    {
      "cell_type": "markdown",
      "metadata": {
        "id": "MZdvmJr1MQNx"
      },
      "source": [
        "Переменные"
      ]
    },
    {
      "cell_type": "code",
      "metadata": {
        "colab": {
          "base_uri": "https://localhost:8080/"
        },
        "id": "B2yb5DAEMXMm",
        "outputId": "25e0a40d-e914-4f14-a50b-027fe4fe7976"
      },
      "source": [
        "x = str(2) \n",
        "y = int(2)\n",
        "z = float(2)\n",
        "print(type(x))\n",
        "print(type(y))\n",
        "print(z)"
      ],
      "execution_count": null,
      "outputs": [
        {
          "output_type": "stream",
          "text": [
            "<class 'str'>\n",
            "<class 'int'>\n",
            "2.0\n"
          ],
          "name": "stdout"
        }
      ]
    },
    {
      "cell_type": "code",
      "metadata": {
        "id": "Iaxt4LDkQUUf"
      },
      "source": [
        "x = '2'\n",
        "y = \"2\""
      ],
      "execution_count": null,
      "outputs": []
    },
    {
      "cell_type": "code",
      "metadata": {
        "colab": {
          "base_uri": "https://localhost:8080/"
        },
        "id": "5J1vX6OjQvlB",
        "outputId": "f00889d9-36d4-4003-dd64-708499cc9330"
      },
      "source": [
        "x = 2 \n",
        "X = 3\n",
        "print(x)"
      ],
      "execution_count": null,
      "outputs": [
        {
          "output_type": "stream",
          "text": [
            "2\n"
          ],
          "name": "stdout"
        }
      ]
    },
    {
      "cell_type": "markdown",
      "metadata": {
        "id": "K2eeLOVKR6uW"
      },
      "source": [
        "недопустимые имена переменных"
      ]
    },
    {
      "cell_type": "code",
      "metadata": {
        "id": "LeCkhJ-zRKz7"
      },
      "source": [
        "2myvar = \"2\"\n",
        "my-var = \"2\"\n",
        "my var = \"2\""
      ],
      "execution_count": null,
      "outputs": []
    },
    {
      "cell_type": "code",
      "metadata": {
        "id": "fwk39C4qSkHv"
      },
      "source": [
        "MyVariableName =\"Pascal Case\"\n",
        "myVariableName = \"Camel Case\"\n",
        "my_variable_name = \"Snake Case\""
      ],
      "execution_count": null,
      "outputs": []
    },
    {
      "cell_type": "code",
      "metadata": {
        "colab": {
          "base_uri": "https://localhost:8080/"
        },
        "id": "2X4h40yeTWFR",
        "outputId": "b38db1e2-a232-4509-f02c-106a417170b7"
      },
      "source": [
        "x, y, z = 1, 2, 3\n",
        "print(x)\n",
        "print(y)\n",
        "print(z)"
      ],
      "execution_count": null,
      "outputs": [
        {
          "output_type": "stream",
          "text": [
            "1\n",
            "2\n",
            "3\n"
          ],
          "name": "stdout"
        }
      ]
    },
    {
      "cell_type": "code",
      "metadata": {
        "colab": {
          "base_uri": "https://localhost:8080/"
        },
        "id": "Ex2b3j3QTybS",
        "outputId": "a3b8e69a-6e16-4e35-ad72-1620e4756b62"
      },
      "source": [
        "x = y = z = 1\n",
        "print(x)\n",
        "print(y)\n",
        "print(z)"
      ],
      "execution_count": null,
      "outputs": [
        {
          "output_type": "stream",
          "text": [
            "1\n",
            "1\n",
            "1\n"
          ],
          "name": "stdout"
        }
      ]
    },
    {
      "cell_type": "code",
      "metadata": {
        "colab": {
          "base_uri": "https://localhost:8080/"
        },
        "id": "YWRjALUjUBTi",
        "outputId": "e4dba66c-83a5-4e7d-fe4c-f233d34a8c57"
      },
      "source": [
        "numbers = [1, 2, 3]\n",
        "x, y, z = numbers\n",
        "print(x)\n",
        "print(y)\n",
        "print(z)"
      ],
      "execution_count": null,
      "outputs": [
        {
          "output_type": "stream",
          "text": [
            "1\n",
            "2\n",
            "3\n"
          ],
          "name": "stdout"
        }
      ]
    },
    {
      "cell_type": "code",
      "metadata": {
        "colab": {
          "base_uri": "https://localhost:8080/"
        },
        "id": "AlZmJBeAVP_f",
        "outputId": "809b98ea-177e-40c9-9f61-61877cbb37ac"
      },
      "source": [
        "x = \"интересен\"\n",
        "y = \"питон \"\n",
        "print(y + x)"
      ],
      "execution_count": null,
      "outputs": [
        {
          "output_type": "stream",
          "text": [
            "питон интересен\n"
          ],
          "name": "stdout"
        }
      ]
    },
    {
      "cell_type": "code",
      "metadata": {
        "colab": {
          "base_uri": "https://localhost:8080/"
        },
        "id": "QbDPmQDcWIV0",
        "outputId": "8669e3db-eff9-4f14-f667-8665e6b163b6"
      },
      "source": [
        "x = 2\n",
        "y = 3\n",
        "print(y + x)"
      ],
      "execution_count": null,
      "outputs": [
        {
          "output_type": "stream",
          "text": [
            "5\n"
          ],
          "name": "stdout"
        }
      ]
    },
    {
      "cell_type": "code",
      "metadata": {
        "colab": {
          "base_uri": "https://localhost:8080/"
        },
        "id": "Ta7ZrZ33Ws6B",
        "outputId": "bd7f1453-b33f-4c56-ea5d-541c20eab88c"
      },
      "source": [
        "x = \"интересен\"\n",
        "\n",
        "def myfunc():\n",
        "  global x\n",
        "  x = \"не интересен\"\n",
        "  print(\"питон \" + x)\n",
        "\n",
        "myfunc()\n",
        "print(\"питон \" + x)\n"
      ],
      "execution_count": null,
      "outputs": [
        {
          "output_type": "stream",
          "text": [
            "питон не интересен\n",
            "питон не интересен\n"
          ],
          "name": "stdout"
        }
      ]
    },
    {
      "cell_type": "markdown",
      "metadata": {
        "id": "dln35cBPOjSA"
      },
      "source": [
        "Типы данных"
      ]
    },
    {
      "cell_type": "code",
      "metadata": {
        "id": "1SGEIx4WONQG"
      },
      "source": [
        "Text Type:\tstr\n",
        "Numeric Types:\tint, float, complex\n",
        "Sequence Types:\tlist, tuple, range\n",
        "Mapping Type:\tdict\n",
        "Set Types:\tset, frozenset\n",
        "Boolean Type:\tbool\n",
        "Binary Types:\tbytes, bytearray, memoryview"
      ],
      "execution_count": null,
      "outputs": []
    },
    {
      "cell_type": "code",
      "metadata": {
        "colab": {
          "base_uri": "https://localhost:8080/"
        },
        "id": "mLb2tGKMTKqZ",
        "outputId": "0a09535c-8b1b-4426-fa31-33e6841dcd12"
      },
      "source": [
        "x=str(3)\n",
        "type(x)"
      ],
      "execution_count": 2,
      "outputs": [
        {
          "output_type": "execute_result",
          "data": {
            "text/plain": [
              "str"
            ]
          },
          "metadata": {
            "tags": []
          },
          "execution_count": 2
        }
      ]
    },
    {
      "cell_type": "code",
      "metadata": {
        "id": "GxbogIG_T7lk"
      },
      "source": [
        "x = str(\"привет\")\t#str\t\n",
        "x = int(2)\t#int\t\n",
        "x = float(2.5)\t#float\t\n",
        "x = complex(1j)\t#complex\t\n",
        "x = list((\"apple\", \"banana\", \"cherry\"))\t#list\t\n",
        "x = tuple((\"apple\", \"banana\", \"cherry\"))\t#tuple\t\n",
        "x = range(6)\t#range\t\n",
        "x = dict(name=\"John\", age=6)\t#dict\t\n",
        "x = set((\"apple\", \"banana\", \"cherry\"))\t#set\t\n",
        "x = frozenset((\"apple\", \"banana\", \"cherry\"))\t#frozenset\t\n",
        "x = bool(5)\t#bool\t\n",
        "x = bytes(5)\t#bytes\t\n",
        "x = bytearray(5)\t#bytearray\t\n",
        "x = memoryview(bytes(5))\t#memoryview"
      ],
      "execution_count": null,
      "outputs": []
    },
    {
      "cell_type": "markdown",
      "metadata": {
        "id": "XCdvL7bIUp2z"
      },
      "source": [
        "числа"
      ]
    },
    {
      "cell_type": "code",
      "metadata": {
        "id": "Qfy9fTSmUmQK"
      },
      "source": [
        "x = int(2)\t#int\t\n",
        "x = float(2.5)\t#float\t\n",
        "x = complex(1j)\t#complex\t"
      ],
      "execution_count": 5,
      "outputs": []
    },
    {
      "cell_type": "code",
      "metadata": {
        "id": "lQaJfuRBU5wm"
      },
      "source": [
        "x = 2\t#int\t\n",
        "x = 2e4\t#float\t\n",
        "x = 1j\t#complex\t"
      ],
      "execution_count": null,
      "outputs": []
    },
    {
      "cell_type": "markdown",
      "metadata": {
        "id": "PPo2ZIxkWlmi"
      },
      "source": [
        "случайное число"
      ]
    },
    {
      "cell_type": "code",
      "metadata": {
        "colab": {
          "base_uri": "https://localhost:8080/"
        },
        "id": "nXvM3QFLWd8h",
        "outputId": "1c602fa8-299a-4ebe-f85d-af59ae5cd65b"
      },
      "source": [
        "import random\n",
        "\n",
        "print(random.randrange(1, 100))"
      ],
      "execution_count": 9,
      "outputs": [
        {
          "output_type": "stream",
          "text": [
            "9\n"
          ],
          "name": "stdout"
        }
      ]
    },
    {
      "cell_type": "code",
      "metadata": {
        "colab": {
          "base_uri": "https://localhost:8080/"
        },
        "id": "WEDzv8reXTZl",
        "outputId": "54d6a784-f0c2-4e5a-c413-10cebaaa4f92"
      },
      "source": [
        "x = int(2.4)\t#int\t\n",
        "z = float(2)\t#float\t\n",
        "print(x)\n",
        "print(z)"
      ],
      "execution_count": 10,
      "outputs": [
        {
          "output_type": "stream",
          "text": [
            "2\n",
            "2.0\n"
          ],
          "name": "stdout"
        }
      ]
    },
    {
      "cell_type": "markdown",
      "metadata": {
        "id": "binpc7YqXu79"
      },
      "source": [
        "строки"
      ]
    },
    {
      "cell_type": "code",
      "metadata": {
        "colab": {
          "base_uri": "https://localhost:8080/"
        },
        "id": "Ho8eFrugXwwB",
        "outputId": "ddd1e756-9358-4a7d-f5c6-28c219144a14"
      },
      "source": [
        "x = \"привет мир\"\n",
        "print(x[0])"
      ],
      "execution_count": 13,
      "outputs": [
        {
          "output_type": "stream",
          "text": [
            "п\n"
          ],
          "name": "stdout"
        }
      ]
    },
    {
      "cell_type": "code",
      "metadata": {
        "colab": {
          "base_uri": "https://localhost:8080/"
        },
        "id": "yvKw-zUgYpUE",
        "outputId": "b8e2298e-a4b2-4008-94c5-b8480a97098f"
      },
      "source": [
        "for x in \"привет мир\":\n",
        "  print(x)"
      ],
      "execution_count": 15,
      "outputs": [
        {
          "output_type": "stream",
          "text": [
            "п\n",
            "р\n",
            "и\n",
            "в\n",
            "е\n",
            "т\n",
            " \n",
            "м\n",
            "и\n",
            "р\n"
          ],
          "name": "stdout"
        }
      ]
    },
    {
      "cell_type": "code",
      "metadata": {
        "colab": {
          "base_uri": "https://localhost:8080/"
        },
        "id": "n6Y3YUpPY6Du",
        "outputId": "4acad555-1318-47a9-83b7-fc2ec1bb6436"
      },
      "source": [
        "x = \"привет мир\"\n",
        "print(len(x))"
      ],
      "execution_count": 16,
      "outputs": [
        {
          "output_type": "stream",
          "text": [
            "10\n"
          ],
          "name": "stdout"
        }
      ]
    },
    {
      "cell_type": "code",
      "metadata": {
        "colab": {
          "base_uri": "https://localhost:8080/"
        },
        "id": "V5Awm4BpZKxt",
        "outputId": "9fe97b41-5aa8-47e4-bb38-d543c06a4d87"
      },
      "source": [
        "x = \"привет мир\"\n",
        "print(\"мир\" in x)"
      ],
      "execution_count": 17,
      "outputs": [
        {
          "output_type": "stream",
          "text": [
            "True\n"
          ],
          "name": "stdout"
        }
      ]
    },
    {
      "cell_type": "code",
      "metadata": {
        "id": "ATXECjYDZhTi"
      },
      "source": [
        "x = \"привет мир\"\n",
        "if \"окно\" in x:\n",
        "  print(\"да, 'мир' привет.\")"
      ],
      "execution_count": 19,
      "outputs": []
    },
    {
      "cell_type": "code",
      "metadata": {
        "colab": {
          "base_uri": "https://localhost:8080/"
        },
        "id": "HJXRgIceZ-Dj",
        "outputId": "9507e64b-66d2-4b46-b014-1cb3de64b734"
      },
      "source": [
        "x = \"привет мир\"\n",
        "print(\"мир\" not in x)"
      ],
      "execution_count": 21,
      "outputs": [
        {
          "output_type": "stream",
          "text": [
            "False\n"
          ],
          "name": "stdout"
        }
      ]
    },
    {
      "cell_type": "code",
      "metadata": {
        "colab": {
          "base_uri": "https://localhost:8080/"
        },
        "id": "uBu_IKhVaTZQ",
        "outputId": "7c9ed2c5-131c-4c92-df69-8b5a3887a4f8"
      },
      "source": [
        "x = \"привет мир\"\n",
        "print(x[-4:])"
      ],
      "execution_count": 36,
      "outputs": [
        {
          "output_type": "stream",
          "text": [
            " мир\n"
          ],
          "name": "stdout"
        }
      ]
    },
    {
      "cell_type": "code",
      "metadata": {
        "colab": {
          "base_uri": "https://localhost:8080/"
        },
        "id": "uye61nBqcdck",
        "outputId": "6dd38ce2-9fb9-4fda-ed84-d92dabf24372"
      },
      "source": [
        "x = \"привет мир\"\n",
        "print(x.upper())"
      ],
      "execution_count": 37,
      "outputs": [
        {
          "output_type": "stream",
          "text": [
            "ПРИВЕТ МИР\n"
          ],
          "name": "stdout"
        }
      ]
    },
    {
      "cell_type": "code",
      "metadata": {
        "colab": {
          "base_uri": "https://localhost:8080/"
        },
        "id": "fQKfPsfycwAM",
        "outputId": "423455bf-c7a4-4f06-b9cb-0425f3d2132d"
      },
      "source": [
        "x = \"ПРИВЕТ МИР\"\n",
        "print(x.lower())"
      ],
      "execution_count": 38,
      "outputs": [
        {
          "output_type": "stream",
          "text": [
            "привет мир\n"
          ],
          "name": "stdout"
        }
      ]
    },
    {
      "cell_type": "code",
      "metadata": {
        "colab": {
          "base_uri": "https://localhost:8080/"
        },
        "id": "k4EZBnF8dDfg",
        "outputId": "79bd3997-5f31-4fc4-ef7a-4b5a8e6c2200"
      },
      "source": [
        "x = \"   ПРИВЕТ МИР   \"\n",
        "print(x.strip())"
      ],
      "execution_count": 40,
      "outputs": [
        {
          "output_type": "stream",
          "text": [
            "ПРИВЕТ МИР\n"
          ],
          "name": "stdout"
        }
      ]
    },
    {
      "cell_type": "code",
      "metadata": {
        "colab": {
          "base_uri": "https://localhost:8080/"
        },
        "id": "_ErK5WFTdiEY",
        "outputId": "753fbeba-75de-4525-a860-47a12933c540"
      },
      "source": [
        "x = \"ПРИВЕТ МИР\"\n",
        "print(x.replace('МИР', 'привет'))"
      ],
      "execution_count": 41,
      "outputs": [
        {
          "output_type": "stream",
          "text": [
            "ПРИВЕТ привет\n"
          ],
          "name": "stdout"
        }
      ]
    },
    {
      "cell_type": "code",
      "metadata": {
        "colab": {
          "base_uri": "https://localhost:8080/"
        },
        "id": "LTVRUN6ud28y",
        "outputId": "5fe5aa56-adc3-46ce-d362-bd76c2bdd878"
      },
      "source": [
        "x = \"ПРИВЕТ МИР\" \n",
        "print(x.split(','))"
      ],
      "execution_count": 46,
      "outputs": [
        {
          "output_type": "stream",
          "text": [
            "['ПРИВЕТ МИР']\n"
          ],
          "name": "stdout"
        }
      ]
    },
    {
      "cell_type": "code",
      "metadata": {
        "colab": {
          "base_uri": "https://localhost:8080/"
        },
        "id": "JRi_Lq8jerer",
        "outputId": "94490437-e41b-4415-d4ee-7601be06b936"
      },
      "source": [
        "x = \"ПРИВЕТ МИР {}\" \n",
        "print(x.format(2))"
      ],
      "execution_count": 57,
      "outputs": [
        {
          "output_type": "stream",
          "text": [
            "ПРИВЕТ МИР 2\n"
          ],
          "name": "stdout"
        }
      ]
    },
    {
      "cell_type": "code",
      "metadata": {
        "colab": {
          "base_uri": "https://localhost:8080/"
        },
        "id": "5Rf390_Zf_ng",
        "outputId": "caa3e514-cc1c-4933-b15a-d9c4d310ee3f"
      },
      "source": [
        "x = \"ПРИВЕТ \\t МИР\" \n",
        "print(x)"
      ],
      "execution_count": 65,
      "outputs": [
        {
          "output_type": "stream",
          "text": [
            "ПРИВЕТ \t МИР\n"
          ],
          "name": "stdout"
        }
      ]
    }
  ]
}