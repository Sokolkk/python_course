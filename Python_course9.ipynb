{
  "nbformat": 4,
  "nbformat_minor": 0,
  "metadata": {
    "colab": {
      "name": "Python_course.ipynb",
      "provenance": [],
      "authorship_tag": "ABX9TyNiu4DcFE954S3tnQ8p/yN4",
      "include_colab_link": true
    },
    "kernelspec": {
      "name": "python3",
      "display_name": "Python 3"
    },
    "language_info": {
      "name": "python"
    }
  },
  "cells": [
    {
      "cell_type": "markdown",
      "metadata": {
        "id": "view-in-github",
        "colab_type": "text"
      },
      "source": [
        "<a href=\"https://colab.research.google.com/github/Sokolkk/python_course/blob/main/Python_course9.ipynb\" target=\"_parent\"><img src=\"https://colab.research.google.com/assets/colab-badge.svg\" alt=\"Open In Colab\"/></a>"
      ]
    },
    {
      "cell_type": "markdown",
      "metadata": {
        "id": "f81dnrHemOso"
      },
      "source": [
        "#Циклы"
      ]
    },
    {
      "cell_type": "markdown",
      "metadata": {
        "id": "BHlkrPVImRmO"
      },
      "source": [
        "While"
      ]
    },
    {
      "cell_type": "code",
      "metadata": {
        "colab": {
          "base_uri": "https://localhost:8080/"
        },
        "id": "k5LUQowJmVsF",
        "outputId": "57684777-41e3-4937-beca-a8e97de96656"
      },
      "source": [
        "i = 1\n",
        "while i < 5:\n",
        "  print(i)\n",
        "  i += 1"
      ],
      "execution_count": 2,
      "outputs": [
        {
          "output_type": "stream",
          "text": [
            "1\n",
            "2\n",
            "3\n",
            "4\n"
          ],
          "name": "stdout"
        }
      ]
    },
    {
      "cell_type": "code",
      "metadata": {
        "id": "9UJtzBEFmayd"
      },
      "source": [
        "i = 1\n",
        "while i < 5:\n",
        "  print(i)\n"
      ],
      "execution_count": null,
      "outputs": []
    },
    {
      "cell_type": "markdown",
      "metadata": {
        "id": "VqDaII5Zm8ax"
      },
      "source": [
        "Остановка цикла"
      ]
    },
    {
      "cell_type": "code",
      "metadata": {
        "colab": {
          "base_uri": "https://localhost:8080/"
        },
        "id": "a6gIv11wm3KI",
        "outputId": "68cb2b24-aa60-43be-e7cc-a07c9ddf147f"
      },
      "source": [
        "i = 1\n",
        "while i < 5:\n",
        "  print(i)\n",
        "  \n",
        "  if i==2:\n",
        "    break\n",
        "\n",
        "  i += 1"
      ],
      "execution_count": 4,
      "outputs": [
        {
          "output_type": "stream",
          "text": [
            "1\n",
            "2\n"
          ],
          "name": "stdout"
        }
      ]
    },
    {
      "cell_type": "markdown",
      "metadata": {
        "id": "KqdiKA1Bn25l"
      },
      "source": [
        "Пропуск итерации\n",
        "\n",
        "\n"
      ]
    },
    {
      "cell_type": "code",
      "metadata": {
        "colab": {
          "base_uri": "https://localhost:8080/"
        },
        "id": "jqfyqGq5n63W",
        "outputId": "ed00ba3d-5a00-4a50-ddd1-dc670ea1fcc1"
      },
      "source": [
        "i = 1\n",
        "while i < 5:\n",
        "  i += 1\n",
        "  if i==2:\n",
        "    continue\n",
        "  print(i)\n",
        "\n"
      ],
      "execution_count": 11,
      "outputs": [
        {
          "output_type": "stream",
          "text": [
            "3\n",
            "4\n",
            "5\n"
          ],
          "name": "stdout"
        }
      ]
    },
    {
      "cell_type": "markdown",
      "metadata": {
        "id": "N_GamvjKpurc"
      },
      "source": [
        "Заявление else\n"
      ]
    },
    {
      "cell_type": "code",
      "metadata": {
        "colab": {
          "base_uri": "https://localhost:8080/"
        },
        "id": "kivE0H75p7op",
        "outputId": "1de50d3e-73d8-4482-d22c-7a85ebcac305"
      },
      "source": [
        "i = 1\n",
        "while i < 5:\n",
        "  print(i)\n",
        "  i += 1\n",
        "else:\n",
        "  print(\"i больше не меньше 5\")"
      ],
      "execution_count": 13,
      "outputs": [
        {
          "output_type": "stream",
          "text": [
            "1\n",
            "2\n",
            "3\n",
            "4\n",
            "i больше не меньше 5\n"
          ],
          "name": "stdout"
        }
      ]
    },
    {
      "cell_type": "markdown",
      "metadata": {
        "id": "EbfU1zh_qywc"
      },
      "source": [
        "##цикл For "
      ]
    },
    {
      "cell_type": "code",
      "metadata": {
        "colab": {
          "base_uri": "https://localhost:8080/"
        },
        "id": "UHrSUX_pq4xD",
        "outputId": "01628399-c076-4142-d51c-1d36150b3da6"
      },
      "source": [
        "fruits = [\"Яблоко\", \"Банан\", \"Апельсин\"]\n",
        "for x in fruits:\n",
        "  print(x)"
      ],
      "execution_count": 14,
      "outputs": [
        {
          "output_type": "stream",
          "text": [
            "Яблоко\n",
            "Банан\n",
            "Апельсин\n"
          ],
          "name": "stdout"
        }
      ]
    },
    {
      "cell_type": "code",
      "metadata": {
        "colab": {
          "base_uri": "https://localhost:8080/"
        },
        "id": "8soJgA50r2ZO",
        "outputId": "abc7001e-57c4-4e8f-b6a6-fc29814414f2"
      },
      "source": [
        "for x in \"Яблоко\":\n",
        "  print(x)"
      ],
      "execution_count": 16,
      "outputs": [
        {
          "output_type": "stream",
          "text": [
            "Я\n",
            "б\n",
            "л\n",
            "о\n",
            "к\n",
            "о\n"
          ],
          "name": "stdout"
        }
      ]
    },
    {
      "cell_type": "markdown",
      "metadata": {
        "id": "_MkM8fGMsT0P"
      },
      "source": [
        "Остановка цикла"
      ]
    },
    {
      "cell_type": "code",
      "metadata": {
        "colab": {
          "base_uri": "https://localhost:8080/"
        },
        "id": "x3BA-bNbsUqy",
        "outputId": "de1f0428-edc9-433f-aafa-1682d1414faa"
      },
      "source": [
        "fruits = [\"Яблоко\", \"Банан\", \"Апельсин\"]\n",
        "for x in fruits:\n",
        "  print(x)\n",
        "  if x==\"Банан\":\n",
        "    break"
      ],
      "execution_count": 17,
      "outputs": [
        {
          "output_type": "stream",
          "text": [
            "Яблоко\n",
            "Банан\n"
          ],
          "name": "stdout"
        }
      ]
    },
    {
      "cell_type": "code",
      "metadata": {
        "colab": {
          "base_uri": "https://localhost:8080/"
        },
        "id": "KF36aBbEs0d5",
        "outputId": "7ffe1370-6b7e-4260-c4ea-2de21b3bc70d"
      },
      "source": [
        "fruits = [\"Яблоко\", \"Банан\", \"Апельсин\"]\n",
        "for x in fruits:\n",
        "  if x==\"Банан\":\n",
        "    break\n",
        "  print(x)\n"
      ],
      "execution_count": 19,
      "outputs": [
        {
          "output_type": "stream",
          "text": [
            "Яблоко\n"
          ],
          "name": "stdout"
        }
      ]
    },
    {
      "cell_type": "markdown",
      "metadata": {
        "id": "uHemMGjwtMF6"
      },
      "source": [
        "Пропуск итерации\n",
        "\n",
        "\n"
      ]
    },
    {
      "cell_type": "code",
      "metadata": {
        "colab": {
          "base_uri": "https://localhost:8080/"
        },
        "id": "XnOwjGpbtFwN",
        "outputId": "15539c32-872c-4827-c16b-eca06b88e086"
      },
      "source": [
        "fruits = [\"Яблоко\", \"Банан\", \"Апельсин\"]\n",
        "for x in fruits:\n",
        "  if x==\"Банан\":\n",
        "    continue\n",
        "  print(x)"
      ],
      "execution_count": 20,
      "outputs": [
        {
          "output_type": "stream",
          "text": [
            "Яблоко\n",
            "Апельсин\n"
          ],
          "name": "stdout"
        }
      ]
    },
    {
      "cell_type": "markdown",
      "metadata": {
        "id": "C9BGIioutj6e"
      },
      "source": [
        "Функция range ()"
      ]
    },
    {
      "cell_type": "code",
      "metadata": {
        "colab": {
          "base_uri": "https://localhost:8080/"
        },
        "id": "xhQvj54DtsV6",
        "outputId": "1937d343-fc47-48b4-deea-4417b7b0c860"
      },
      "source": [
        "for x in range(5):\n",
        "  print(x)"
      ],
      "execution_count": 23,
      "outputs": [
        {
          "output_type": "stream",
          "text": [
            "0\n",
            "1\n",
            "2\n",
            "3\n",
            "4\n"
          ],
          "name": "stdout"
        }
      ]
    },
    {
      "cell_type": "code",
      "metadata": {
        "colab": {
          "base_uri": "https://localhost:8080/"
        },
        "id": "2iqFLZZ9x3qC",
        "outputId": "30f1e5b7-e16d-46a4-c861-0291ccf08cf0"
      },
      "source": [
        "for x in range(2,5):\n",
        "  print(x)"
      ],
      "execution_count": 24,
      "outputs": [
        {
          "output_type": "stream",
          "text": [
            "2\n",
            "3\n",
            "4\n"
          ],
          "name": "stdout"
        }
      ]
    },
    {
      "cell_type": "code",
      "metadata": {
        "colab": {
          "base_uri": "https://localhost:8080/"
        },
        "id": "XZV0AvXAyZqk",
        "outputId": "f3df0ab8-7f75-4fdc-b06e-420fae1d776f"
      },
      "source": [
        "for x in range(0, 25, 5):\n",
        "  print(x)"
      ],
      "execution_count": 28,
      "outputs": [
        {
          "output_type": "stream",
          "text": [
            "0\n",
            "5\n",
            "10\n",
            "15\n",
            "20\n"
          ],
          "name": "stdout"
        }
      ]
    },
    {
      "cell_type": "markdown",
      "metadata": {
        "id": "iz034QkKy5bx"
      },
      "source": [
        "Заявление else\n"
      ]
    },
    {
      "cell_type": "code",
      "metadata": {
        "colab": {
          "base_uri": "https://localhost:8080/"
        },
        "id": "B2nQHMM6y45y",
        "outputId": "b49a7c5f-ecb7-40b4-8c39-3832e40a5fa7"
      },
      "source": [
        "for x in range(0, 25, 5):\n",
        "  print(x)\n",
        "else:\n",
        "    print(\"поледовательность завершена\")"
      ],
      "execution_count": 29,
      "outputs": [
        {
          "output_type": "stream",
          "text": [
            "0\n",
            "5\n",
            "10\n",
            "15\n",
            "20\n",
            "поледовательность завершена\n"
          ],
          "name": "stdout"
        }
      ]
    },
    {
      "cell_type": "markdown",
      "metadata": {
        "id": "x0Adi2CXzYoa"
      },
      "source": [
        "Вложенные циклы"
      ]
    },
    {
      "cell_type": "code",
      "metadata": {
        "colab": {
          "base_uri": "https://localhost:8080/"
        },
        "id": "Rdk2mNUoza0f",
        "outputId": "46d54c34-d2dc-45c0-9a1d-b0069170a2c3"
      },
      "source": [
        "Colors = [\"Красный\", \"Желтый\", \"Зеленый\"]\n",
        "fruits = [\"Яблоко\", \"Банан\", \"Апельсин\"]\n",
        "\n",
        "for x in Colors:\n",
        "  for y in fruits:\n",
        "    print(x, y)"
      ],
      "execution_count": 31,
      "outputs": [
        {
          "output_type": "stream",
          "text": [
            "Красный Яблоко\n",
            "Красный Банан\n",
            "Красный Апельсин\n",
            "Желтый Яблоко\n",
            "Желтый Банан\n",
            "Желтый Апельсин\n",
            "Зеленый Яблоко\n",
            "Зеленый Банан\n",
            "Зеленый Апельсин\n"
          ],
          "name": "stdout"
        }
      ]
    },
    {
      "cell_type": "markdown",
      "metadata": {
        "id": "o64ilxiR0fmI"
      },
      "source": [
        "Заявление о пропуске"
      ]
    },
    {
      "cell_type": "code",
      "metadata": {
        "id": "OSFjeTMS0aPa"
      },
      "source": [
        "for x in range(0, 25, 5):\n",
        "  pass\n"
      ],
      "execution_count": 34,
      "outputs": []
    }
  ]
}