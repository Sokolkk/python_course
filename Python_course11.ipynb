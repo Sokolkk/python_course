{
  "nbformat": 4,
  "nbformat_minor": 0,
  "metadata": {
    "colab": {
      "name": "Python_course.ipynb",
      "provenance": [],
      "authorship_tag": "ABX9TyPtjKvnZiFau5wZEqe9MCFx",
      "include_colab_link": true
    },
    "kernelspec": {
      "name": "python3",
      "display_name": "Python 3"
    },
    "language_info": {
      "name": "python"
    }
  },
  "cells": [
    {
      "cell_type": "markdown",
      "metadata": {
        "id": "view-in-github",
        "colab_type": "text"
      },
      "source": [
        "<a href=\"https://colab.research.google.com/github/Sokolkk/python_course/blob/main/Python_course11.ipynb\" target=\"_parent\"><img src=\"https://colab.research.google.com/assets/colab-badge.svg\" alt=\"Open In Colab\"/></a>"
      ]
    },
    {
      "cell_type": "markdown",
      "metadata": {
        "id": "ClKoAvCtjtN_"
      },
      "source": [
        "#`λямбда-функции  `"
      ]
    },
    {
      "cell_type": "markdown",
      "metadata": {
        "id": "4YHbMi54l094"
      },
      "source": [
        "Синтаксис лямбда-функции: \n",
        "\n",
        "---\n",
        "\n",
        "\n",
        "**lambda arguments : expression**\n"
      ]
    },
    {
      "cell_type": "code",
      "metadata": {
        "colab": {
          "base_uri": "https://localhost:8080/"
        },
        "id": "RX1jS_89mTcg",
        "outputId": "9059acba-6934-43d8-cffb-24d7c3b561fa"
      },
      "source": [
        "x = lambda a : a + 100\n",
        "print(x(10))"
      ],
      "execution_count": 1,
      "outputs": [
        {
          "output_type": "stream",
          "text": [
            "110\n"
          ],
          "name": "stdout"
        }
      ]
    },
    {
      "cell_type": "code",
      "metadata": {
        "colab": {
          "base_uri": "https://localhost:8080/"
        },
        "id": "nL1OjxA8m4np",
        "outputId": "b64ea62c-acc6-4965-a7da-cbd2aaada610"
      },
      "source": [
        "x = lambda a, b : a * b\n",
        "print(x(2, 3))"
      ],
      "execution_count": 3,
      "outputs": [
        {
          "output_type": "stream",
          "text": [
            "6\n"
          ],
          "name": "stdout"
        }
      ]
    },
    {
      "cell_type": "code",
      "metadata": {
        "colab": {
          "base_uri": "https://localhost:8080/"
        },
        "id": "LMjo-wdInQvf",
        "outputId": "1c96e321-bfd7-4889-a602-148f1f5b0aab"
      },
      "source": [
        "x = lambda a, b, c : a - b + c\n",
        "print(x(10, 4, 2))"
      ],
      "execution_count": 5,
      "outputs": [
        {
          "output_type": "stream",
          "text": [
            "8\n"
          ],
          "name": "stdout"
        }
      ]
    },
    {
      "cell_type": "code",
      "metadata": {
        "colab": {
          "base_uri": "https://localhost:8080/"
        },
        "id": "cctaBYKsntG4",
        "outputId": "47cec19f-3ef2-4f67-c103-87a688c0166d"
      },
      "source": [
        "def myfunc(x):\n",
        "  return lambda a : a * x\n",
        "doubler = myfunc(2)\n",
        "tripler = myfunc(3)\n",
        "\n",
        "print(doubler(11))\n",
        "print(tripler(11))"
      ],
      "execution_count": 12,
      "outputs": [
        {
          "output_type": "stream",
          "text": [
            "22\n",
            "33\n"
          ],
          "name": "stdout"
        }
      ]
    }
  ]
}