{
  "nbformat": 4,
  "nbformat_minor": 0,
  "metadata": {
    "colab": {
      "name": "Python_Course.ipynb",
      "provenance": [],
      "include_colab_link": true
    },
    "kernelspec": {
      "name": "python3",
      "display_name": "Python 3"
    },
    "language_info": {
      "name": "python"
    }
  },
  "cells": [
    {
      "cell_type": "markdown",
      "metadata": {
        "id": "view-in-github",
        "colab_type": "text"
      },
      "source": [
        "<a href=\"https://colab.research.google.com/github/Sokolkk/python_course/blob/main/Python_Course8.ipynb\" target=\"_parent\"><img src=\"https://colab.research.google.com/assets/colab-badge.svg\" alt=\"Open In Colab\"/></a>"
      ]
    },
    {
      "cell_type": "markdown",
      "metadata": {
        "id": "Gu1HZp1jOPUk"
      },
      "source": [
        "# Условия If ... Else Python"
      ]
    },
    {
      "cell_type": "markdown",
      "metadata": {
        "id": "fAjlVdJ2QmRD"
      },
      "source": [
        "Python поддерживает обычные логические условия из математики:\n",
        "\n",
        "Равно: a == b\n",
        "\n",
        "Не равно: a! = B\n",
        "\n",
        "Меньше чем: a <b\n",
        "\n",
        "Меньше или равно: a <= b\n",
        "\n",
        "Больше чем: a> b\n",
        "\n",
        "Больше или равно: a> = b"
      ]
    },
    {
      "cell_type": "code",
      "metadata": {
        "id": "95eVCa8iRLhO",
        "outputId": "c462e510-f02d-4093-8b36-2784b1ce987e",
        "colab": {
          "base_uri": "https://localhost:8080/"
        }
      },
      "source": [
        "a = 10\n",
        "b = 20\n",
        "if b > a:\n",
        "  print(\"b является больше чем a\")"
      ],
      "execution_count": 2,
      "outputs": [
        {
          "output_type": "stream",
          "text": [
            "b является больше чем a\n"
          ],
          "name": "stdout"
        }
      ]
    },
    {
      "cell_type": "code",
      "metadata": {
        "id": "y-eT6NwORrH_",
        "outputId": "5af06e81-905f-448a-d58d-bd195967cfa8",
        "colab": {
          "base_uri": "https://localhost:8080/"
        }
      },
      "source": [
        "a = 30\n",
        "b = 20\n",
        "if b > a:\n",
        "  print(\"b является больше чем a\")\n",
        "print(b > a)"
      ],
      "execution_count": 5,
      "outputs": [
        {
          "output_type": "stream",
          "text": [
            "False\n"
          ],
          "name": "stdout"
        }
      ]
    },
    {
      "cell_type": "code",
      "metadata": {
        "id": "28qfCz1GSMjz"
      },
      "source": [
        "a = 10\n",
        "b = 20\n",
        "if b > a:\n",
        "print(\"b является больше чем a\")"
      ],
      "execution_count": null,
      "outputs": []
    },
    {
      "cell_type": "code",
      "metadata": {
        "id": "8gitOOcgSa1p",
        "outputId": "fc26bbc3-d634-495f-b15d-00098dd7a170",
        "colab": {
          "base_uri": "https://localhost:8080/"
        }
      },
      "source": [
        "a = 10\n",
        "b = 10\n",
        "if b > a:\n",
        "  print(\"b является больше чем a\")\n",
        "elif a==b:\n",
        "  print(\"b равно a\")\n",
        "print(a==b)"
      ],
      "execution_count": 13,
      "outputs": [
        {
          "output_type": "stream",
          "text": [
            "b равно a\n",
            "True\n"
          ],
          "name": "stdout"
        }
      ]
    },
    {
      "cell_type": "code",
      "metadata": {
        "id": "-bm7TjzeTbYo",
        "outputId": "f3711dbf-c03e-4bbb-8071-3dfce3816a7b",
        "colab": {
          "base_uri": "https://localhost:8080/"
        }
      },
      "source": [
        "a = 10\n",
        "b = 10\n",
        "if b > a:\n",
        "  print(\"b является больше чем a\")\n",
        "else:\n",
        "  print(\"a является больше чем b\")"
      ],
      "execution_count": 18,
      "outputs": [
        {
          "output_type": "stream",
          "text": [
            "a является больше чем b\n"
          ],
          "name": "stdout"
        }
      ]
    },
    {
      "cell_type": "markdown",
      "metadata": {
        "id": "-GHKR7MbVGga"
      },
      "source": [
        "короткая запись"
      ]
    },
    {
      "cell_type": "code",
      "metadata": {
        "id": "mIpSpGZjVVTM",
        "outputId": "2f480bf0-9261-4296-c3e8-dc2d76ac4c92",
        "colab": {
          "base_uri": "https://localhost:8080/"
        }
      },
      "source": [
        "a = 10\n",
        "b = 10\n",
        "print(\"b является больше чем a\") if b > a else print(\"a является больше чем b\")\n"
      ],
      "execution_count": 24,
      "outputs": [
        {
          "output_type": "stream",
          "text": [
            "a является больше чем b\n"
          ],
          "name": "stdout"
        }
      ]
    },
    {
      "cell_type": "code",
      "metadata": {
        "id": "lvuLNDamVy9Y",
        "outputId": "83678f07-3857-41c1-dc58-3c44ee102559",
        "colab": {
          "base_uri": "https://localhost:8080/"
        }
      },
      "source": [
        "a = 10\n",
        "b = 100\n",
        "if b > a: print(\"b является больше чем a\") \n"
      ],
      "execution_count": 28,
      "outputs": [
        {
          "output_type": "stream",
          "text": [
            "b является больше чем a\n"
          ],
          "name": "stdout"
        }
      ]
    },
    {
      "cell_type": "code",
      "metadata": {
        "id": "x_XN0iI-XkHu",
        "outputId": "9ead3496-be12-4730-b594-e1a7c2885a5c",
        "colab": {
          "base_uri": "https://localhost:8080/"
        }
      },
      "source": [
        "a = 100\n",
        "b = 100\n",
        "print(\"A\") if a > b else print(\"=\") if a == b else print(\"B\")"
      ],
      "execution_count": 31,
      "outputs": [
        {
          "output_type": "stream",
          "text": [
            "=\n"
          ],
          "name": "stdout"
        }
      ]
    },
    {
      "cell_type": "markdown",
      "metadata": {
        "id": "ZNK0WD0DYhO_"
      },
      "source": [
        " and, or"
      ]
    },
    {
      "cell_type": "code",
      "metadata": {
        "id": "FBygaNagYt2e",
        "outputId": "592bf9dc-a4a9-4740-bdb0-c1175cc11526",
        "colab": {
          "base_uri": "https://localhost:8080/"
        }
      },
      "source": [
        "a = 100\n",
        "b = 11\n",
        "c = 222\n",
        "if a > b and c > a:\n",
        "  print(\"Оба условия верны\")"
      ],
      "execution_count": 36,
      "outputs": [
        {
          "output_type": "stream",
          "text": [
            "Оба условия верны\n"
          ],
          "name": "stdout"
        }
      ]
    },
    {
      "cell_type": "code",
      "metadata": {
        "id": "pOGFNHK_ZW8n",
        "outputId": "71bad860-3cf7-443c-d54e-6f1ae9f01963",
        "colab": {
          "base_uri": "https://localhost:8080/"
        }
      },
      "source": [
        "a = 100\n",
        "b = 11\n",
        "c = 222\n",
        "if a > b or a > c:\n",
        "  print(\"По крайней мере одно из условий верно\")"
      ],
      "execution_count": 40,
      "outputs": [
        {
          "output_type": "stream",
          "text": [
            "По крайней мере одно из условий верно\n"
          ],
          "name": "stdout"
        }
      ]
    },
    {
      "cell_type": "markdown",
      "metadata": {
        "id": "vSRP3408Z7fP"
      },
      "source": [
        "Вложенные условия"
      ]
    },
    {
      "cell_type": "code",
      "metadata": {
        "id": "TSptfw-qaGmK",
        "outputId": "2cd80b28-6f47-4d55-d55c-35ca8ab29370",
        "colab": {
          "base_uri": "https://localhost:8080/"
        }
      },
      "source": [
        "a = 11\n",
        "\n",
        "if a > 10:\n",
        "  print(\"Above ten,\")\n",
        "  if a > 20:\n",
        "    print(\"and also above 20!\")\n",
        "  else:\n",
        "    print(\"but not above 20.\")"
      ],
      "execution_count": 42,
      "outputs": [
        {
          "output_type": "stream",
          "text": [
            "Above ten,\n",
            "but not above 20.\n"
          ],
          "name": "stdout"
        }
      ]
    },
    {
      "cell_type": "markdown",
      "metadata": {
        "id": "LgZ1VRBCa0X_"
      },
      "source": [
        "пропуск"
      ]
    },
    {
      "cell_type": "code",
      "metadata": {
        "id": "7KYzD92Ja3cJ"
      },
      "source": [
        "a = 11\n",
        "\n",
        "if a > 10:\n",
        "  pass"
      ],
      "execution_count": null,
      "outputs": []
    }
  ]
}