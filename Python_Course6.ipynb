{
  "nbformat": 4,
  "nbformat_minor": 0,
  "metadata": {
    "colab": {
      "name": "Python_Course.ipynb",
      "provenance": [],
      "include_colab_link": true
    },
    "kernelspec": {
      "name": "python3",
      "display_name": "Python 3"
    },
    "language_info": {
      "name": "python"
    }
  },
  "cells": [
    {
      "cell_type": "markdown",
      "metadata": {
        "id": "view-in-github",
        "colab_type": "text"
      },
      "source": [
        "<a href=\"https://colab.research.google.com/github/Sokolkk/python_course/blob/main/Python_Course6.ipynb\" target=\"_parent\"><img src=\"https://colab.research.google.com/assets/colab-badge.svg\" alt=\"Open In Colab\"/></a>"
      ]
    },
    {
      "cell_type": "markdown",
      "metadata": {
        "id": "7ToYaMc0vnSV"
      },
      "source": [
        "Cет (set)"
      ]
    },
    {
      "cell_type": "code",
      "metadata": {
        "id": "LkxpQDB6yBZv",
        "outputId": "bf444d40-65fc-4279-8446-b2c31f3c56bf",
        "colab": {
          "base_uri": "https://localhost:8080/"
        }
      },
      "source": [
        "myset = {\"Яблоко\", \"Банан\", \"Апельсин\",\"Апельсин\"}\n",
        "print(myset)"
      ],
      "execution_count": 17,
      "outputs": [
        {
          "output_type": "stream",
          "text": [
            "{'Апельсин', 'Банан', 'Яблоко'}\n"
          ],
          "name": "stdout"
        }
      ]
    },
    {
      "cell_type": "code",
      "metadata": {
        "id": "fQHQn9D7zuEM",
        "outputId": "0f5f5c44-edb5-44a4-92b8-4725e1ca542f",
        "colab": {
          "base_uri": "https://localhost:8080/"
        }
      },
      "source": [
        "myset = {\"Яблоко\", \"Банан\", \"Апельсин\",\"Апельсин\"}\n",
        "print(len(myset))"
      ],
      "execution_count": 19,
      "outputs": [
        {
          "output_type": "stream",
          "text": [
            "3\n"
          ],
          "name": "stdout"
        }
      ]
    },
    {
      "cell_type": "code",
      "metadata": {
        "id": "iaUgmWNw0GCl",
        "outputId": "228d4f81-e715-40ea-baa9-b09550ccc3d3",
        "colab": {
          "base_uri": "https://localhost:8080/"
        }
      },
      "source": [
        "myset = {\"Яблоко\", 1, 2.7}\n",
        "print(myset)"
      ],
      "execution_count": 26,
      "outputs": [
        {
          "output_type": "stream",
          "text": [
            "{1, 2.7, 'Яблоко'}\n"
          ],
          "name": "stdout"
        }
      ]
    },
    {
      "cell_type": "code",
      "metadata": {
        "id": "_ao9QRwL1JoX",
        "outputId": "fb699211-8a3c-4e3d-cd06-3e6679c38b3f",
        "colab": {
          "base_uri": "https://localhost:8080/"
        }
      },
      "source": [
        "myset = {\"Яблоко\", 1, 2.7}\n",
        "print(type(myset))"
      ],
      "execution_count": 28,
      "outputs": [
        {
          "output_type": "stream",
          "text": [
            "<class 'set'>\n"
          ],
          "name": "stdout"
        }
      ]
    },
    {
      "cell_type": "code",
      "metadata": {
        "id": "feUdRHbi1VCB",
        "outputId": "ecffeb9a-ad3a-4154-cde0-b40aff6d79c8",
        "colab": {
          "base_uri": "https://localhost:8080/"
        }
      },
      "source": [
        "myset = set((\"Яблоко\", 1, 2.7))\n",
        "print(myset)"
      ],
      "execution_count": 30,
      "outputs": [
        {
          "output_type": "stream",
          "text": [
            "{1, 2.7, 'Яблоко'}\n"
          ],
          "name": "stdout"
        }
      ]
    },
    {
      "cell_type": "markdown",
      "metadata": {
        "id": "D2MHbLo71_rx"
      },
      "source": [
        "Доступ к элементам"
      ]
    },
    {
      "cell_type": "code",
      "metadata": {
        "id": "v6siHURb2EQ3",
        "outputId": "547a57e4-dcf6-46e5-bc95-f2daa9cebacc",
        "colab": {
          "base_uri": "https://localhost:8080/"
        }
      },
      "source": [
        "myset = set((\"Яблоко\", 1, 2.7))\n",
        "\n",
        "for x in myset:\n",
        "  print(x)"
      ],
      "execution_count": 32,
      "outputs": [
        {
          "output_type": "stream",
          "text": [
            "1\n",
            "2.7\n",
            "Яблоко\n"
          ],
          "name": "stdout"
        }
      ]
    },
    {
      "cell_type": "code",
      "metadata": {
        "id": "dEmMChDw2mR8",
        "outputId": "19f0a31a-9d43-44de-ba09-279006323cdf",
        "colab": {
          "base_uri": "https://localhost:8080/"
        }
      },
      "source": [
        "myset = {\"Яблоко\", 1, 2.7}\n",
        "print(\"Яблоко\" in myset)"
      ],
      "execution_count": 35,
      "outputs": [
        {
          "output_type": "stream",
          "text": [
            "True\n"
          ],
          "name": "stdout"
        }
      ]
    },
    {
      "cell_type": "markdown",
      "metadata": {
        "id": "Q8lCGf3Y4ulE"
      },
      "source": [
        "добавление элементов"
      ]
    },
    {
      "cell_type": "code",
      "metadata": {
        "id": "lM9SZlq_3Xlf",
        "outputId": "728c551e-2522-4748-99e6-16e7d8784ede",
        "colab": {
          "base_uri": "https://localhost:8080/"
        }
      },
      "source": [
        "myset = {\"Яблоко\", 1, 2.7}\n",
        "myset.add(\"банан\")\n",
        "print(myset)"
      ],
      "execution_count": 38,
      "outputs": [
        {
          "output_type": "stream",
          "text": [
            "{'банан', 1, 2.7, 'Яблоко'}\n"
          ],
          "name": "stdout"
        }
      ]
    },
    {
      "cell_type": "code",
      "metadata": {
        "id": "32lecGp23wu_",
        "outputId": "27d410ba-2865-4576-e945-84ca23c90681",
        "colab": {
          "base_uri": "https://localhost:8080/"
        }
      },
      "source": [
        "myset = {\"Яблоко\", 1, 2.7}\n",
        "mylist= [\"Яблоко\", \"Банан\", \"Апельсин\",\"Апельсин\"]\n",
        "\n",
        "myset.update(mylist)\n",
        "\n",
        "print(myset)"
      ],
      "execution_count": 42,
      "outputs": [
        {
          "output_type": "stream",
          "text": [
            "{'Апельсин', 1, 2.7, 'Банан', 'Яблоко'}\n"
          ],
          "name": "stdout"
        }
      ]
    },
    {
      "cell_type": "code",
      "metadata": {
        "id": "n6nKBtF04xmQ"
      },
      "source": [
        "удаление элементов"
      ],
      "execution_count": null,
      "outputs": []
    },
    {
      "cell_type": "code",
      "metadata": {
        "id": "GEKBWl3Z5HCY",
        "outputId": "e327ee19-5e4e-4f75-f400-354db6285649",
        "colab": {
          "base_uri": "https://localhost:8080/"
        }
      },
      "source": [
        "myset = {\"Яблоко\", 1, 2.7}\n",
        "myset.remove(\"Яблоко\")\n",
        "print(myset)"
      ],
      "execution_count": 46,
      "outputs": [
        {
          "output_type": "stream",
          "text": [
            "{1, 2.7}\n"
          ],
          "name": "stdout"
        }
      ]
    },
    {
      "cell_type": "code",
      "metadata": {
        "id": "mkWP8o-F5dMV",
        "outputId": "8670041c-c2ae-472c-9de6-7bb945c4fde3",
        "colab": {
          "base_uri": "https://localhost:8080/"
        }
      },
      "source": [
        "myset = {\"Яблоко\", 1, 2.7}\n",
        "myset.discard(\"Яблоко\")\n",
        "print(myset)"
      ],
      "execution_count": 50,
      "outputs": [
        {
          "output_type": "stream",
          "text": [
            "{1, 2.7}\n"
          ],
          "name": "stdout"
        }
      ]
    },
    {
      "cell_type": "code",
      "metadata": {
        "id": "fXB6zm3l55QL",
        "outputId": "61eae932-6bc5-4aa7-c389-51df252a16ed",
        "colab": {
          "base_uri": "https://localhost:8080/"
        }
      },
      "source": [
        "myset = {\"Яблоко\", 1, 2.7}\n",
        "z = myset.pop()\n",
        "print(z)\n",
        "print(myset)"
      ],
      "execution_count": 54,
      "outputs": [
        {
          "output_type": "stream",
          "text": [
            "1\n",
            "{2.7, 'Яблоко'}\n"
          ],
          "name": "stdout"
        }
      ]
    },
    {
      "cell_type": "code",
      "metadata": {
        "id": "49TxhPnP6bjG",
        "outputId": "b76c2ddc-5e3f-46fe-a101-0b716830c13f",
        "colab": {
          "base_uri": "https://localhost:8080/"
        }
      },
      "source": [
        "myset = {\"Яблоко\", 1, 2.7}\n",
        "myset.clear()\n",
        "print(myset)"
      ],
      "execution_count": 56,
      "outputs": [
        {
          "output_type": "stream",
          "text": [
            "set()\n"
          ],
          "name": "stdout"
        }
      ]
    },
    {
      "cell_type": "code",
      "metadata": {
        "id": "StpjDm9Z6wmI"
      },
      "source": [
        "myset = {\"Яблоко\", 1, 2.7}\n",
        "del myset\n",
        "print(myset)"
      ],
      "execution_count": null,
      "outputs": []
    },
    {
      "cell_type": "markdown",
      "metadata": {
        "id": "9AVn0x1g7IAp"
      },
      "source": [
        "объединение сетов"
      ]
    },
    {
      "cell_type": "code",
      "metadata": {
        "id": "ESvC68o07K5a",
        "outputId": "5d757282-3eb3-42ce-fb57-689682f0e2d5",
        "colab": {
          "base_uri": "https://localhost:8080/"
        }
      },
      "source": [
        "myset = {\"Яблоко\", 1, 2.7}\n",
        "mylist= {\"Яблоко\", \"Банан\", \"Апельсин\",\"Апельсин\"}\n",
        "\n",
        "x = myset.union(mylist)\n",
        "\n",
        "print(x)"
      ],
      "execution_count": 63,
      "outputs": [
        {
          "output_type": "stream",
          "text": [
            "{'Апельсин', 1, 2.7, 'Банан', 'Яблоко'}\n"
          ],
          "name": "stdout"
        }
      ]
    },
    {
      "cell_type": "code",
      "metadata": {
        "id": "z0szoQyC8rgD",
        "outputId": "14d12e8c-2be3-4ba0-dd46-7239c5017c37",
        "colab": {
          "base_uri": "https://localhost:8080/"
        }
      },
      "source": [
        "myset1 = {\"Яблоко\", 1, 2.7}\n",
        "myset2 = {\"Яблоко\", \"Банан\", \"Апельсин\",\"Апельсин\"}\n",
        "\n",
        "myset1.intersection_update(myset2)\n",
        "\n",
        "print(myset1)"
      ],
      "execution_count": 65,
      "outputs": [
        {
          "output_type": "stream",
          "text": [
            "{'Яблоко'}\n"
          ],
          "name": "stdout"
        }
      ]
    },
    {
      "cell_type": "code",
      "metadata": {
        "id": "d7kZLReC9Jmv",
        "outputId": "82480828-e660-4bba-dec5-7e8ddae53a65",
        "colab": {
          "base_uri": "https://localhost:8080/"
        }
      },
      "source": [
        "myset1 = {\"Яблоко\", 1, 2.7}\n",
        "myset2 = {\"Яблоко\", \"Банан\", \"Апельсин\",\"Апельсин\"}\n",
        "\n",
        "myset3 = myset1.intersection(myset2)\n",
        "\n",
        "print(myset3)"
      ],
      "execution_count": 67,
      "outputs": [
        {
          "output_type": "stream",
          "text": [
            "{'Яблоко'}\n"
          ],
          "name": "stdout"
        }
      ]
    },
    {
      "cell_type": "code",
      "metadata": {
        "id": "VkV3M8xE9nKu",
        "outputId": "6d03cf99-4324-41d7-ac23-d36cd41afcb5",
        "colab": {
          "base_uri": "https://localhost:8080/"
        }
      },
      "source": [
        "myset1 = {\"Яблоко\", 1, 2.7}\n",
        "myset2 = {\"Яблоко\", \"Банан\", \"Апельсин\",\"Апельсин\"}\n",
        "\n",
        "myset1.symmetric_difference_update(myset2)\n",
        "\n",
        "print(myset1)"
      ],
      "execution_count": 69,
      "outputs": [
        {
          "output_type": "stream",
          "text": [
            "{'Апельсин', 1, 2.7, 'Банан'}\n"
          ],
          "name": "stdout"
        }
      ]
    },
    {
      "cell_type": "code",
      "metadata": {
        "id": "liU-L-dU94dc",
        "outputId": "925ba3c8-7083-4799-acc9-834a24e91c20",
        "colab": {
          "base_uri": "https://localhost:8080/"
        }
      },
      "source": [
        "myset1 = {\"Яблоко\", 1, 2.7}\n",
        "myset2 = {\"Яблоко\", \"Банан\", \"Апельсин\",\"Апельсин\"}\n",
        "\n",
        "myset3 = myset1.symmetric_difference(myset2)\n",
        "\n",
        "print(myset3)"
      ],
      "execution_count": 71,
      "outputs": [
        {
          "output_type": "stream",
          "text": [
            "{'Апельсин', 1, 2.7, 'Банан'}\n"
          ],
          "name": "stdout"
        }
      ]
    }
  ]
}