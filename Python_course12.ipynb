{
  "nbformat": 4,
  "nbformat_minor": 0,
  "metadata": {
    "colab": {
      "name": "Python_course.ipynb",
      "provenance": [],
      "authorship_tag": "ABX9TyO5O3OA8IJdYraKOLt5ymsy",
      "include_colab_link": true
    },
    "kernelspec": {
      "name": "python3",
      "display_name": "Python 3"
    },
    "language_info": {
      "name": "python"
    }
  },
  "cells": [
    {
      "cell_type": "markdown",
      "metadata": {
        "id": "view-in-github",
        "colab_type": "text"
      },
      "source": [
        "<a href=\"https://colab.research.google.com/github/Sokolkk/python_course/blob/main/Python_course12.ipynb\" target=\"_parent\"><img src=\"https://colab.research.google.com/assets/colab-badge.svg\" alt=\"Open In Colab\"/></a>"
      ]
    },
    {
      "cell_type": "markdown",
      "metadata": {
        "id": "ClKoAvCtjtN_"
      },
      "source": [
        "#`Классы и объекты\n",
        "\n"
      ]
    },
    {
      "cell_type": "code",
      "metadata": {
        "id": "vjjNU2JVtaMX"
      },
      "source": [
        "class MyClass:\n",
        "  x = 10"
      ],
      "execution_count": null,
      "outputs": []
    },
    {
      "cell_type": "markdown",
      "metadata": {
        "id": "2tly6FwYv9yQ"
      },
      "source": [
        "создание объектов"
      ]
    },
    {
      "cell_type": "code",
      "metadata": {
        "colab": {
          "base_uri": "https://localhost:8080/"
        },
        "id": "MekkRcnSv8cG",
        "outputId": "135dba5e-c286-451e-f4fe-57a09b9b8986"
      },
      "source": [
        "class MyClass:\n",
        "  x = 10\n",
        "o = MyClass()\n",
        "print(o.x)"
      ],
      "execution_count": 14,
      "outputs": [
        {
          "output_type": "stream",
          "text": [
            "10\n"
          ],
          "name": "stdout"
        }
      ]
    },
    {
      "cell_type": "markdown",
      "metadata": {
        "id": "bb1n2xDqweob"
      },
      "source": [
        "Функция __init __ ()\n"
      ]
    },
    {
      "cell_type": "code",
      "metadata": {
        "colab": {
          "base_uri": "https://localhost:8080/"
        },
        "id": "6x8VtN9gwguW",
        "outputId": "608fe0b2-7639-4897-ed31-0614bff3bdc3"
      },
      "source": [
        "class Person:\n",
        "  def __init__(self, name, age):\n",
        "    self.name = name\n",
        "    self.age = age\n",
        "\n",
        "p = Person(\"Иван\", 15)\n",
        "\n",
        "print(p.name)\n",
        "print(p.age)"
      ],
      "execution_count": 16,
      "outputs": [
        {
          "output_type": "stream",
          "text": [
            "Иван\n",
            "15\n"
          ],
          "name": "stdout"
        }
      ]
    },
    {
      "cell_type": "markdown",
      "metadata": {
        "id": "pXafc3cxy1ag"
      },
      "source": [
        "Объектные методы\n"
      ]
    },
    {
      "cell_type": "code",
      "metadata": {
        "colab": {
          "base_uri": "https://localhost:8080/"
        },
        "id": "3A-rNhjIy3KF",
        "outputId": "f4adef84-8bc4-486b-a720-e9a270af8ae6"
      },
      "source": [
        "class Person:\n",
        "  def __init__(self, name, age):\n",
        "    self.name = name\n",
        "    self.age = age\n",
        "\n",
        "  def myfunc(self):\n",
        "    print(\"Привет меня зовут \" + self.name)\n",
        "\n",
        "\n",
        "p = Person(\"Иван\", 15)\n",
        "p.myfunc()"
      ],
      "execution_count": 17,
      "outputs": [
        {
          "output_type": "stream",
          "text": [
            "Привет меня зовут Иван\n"
          ],
          "name": "stdout"
        }
      ]
    },
    {
      "cell_type": "markdown",
      "metadata": {
        "id": "7Fod3e5I0ROr"
      },
      "source": [
        "self"
      ]
    },
    {
      "cell_type": "code",
      "metadata": {
        "colab": {
          "base_uri": "https://localhost:8080/"
        },
        "id": "4a3FSTzE0fqW",
        "outputId": "891f5f8d-837f-42e5-82c6-f531d6cbb355"
      },
      "source": [
        "class Person:\n",
        "  def __init__(mysillyobject, name, age):\n",
        "    mysillyobject.name = name\n",
        "    mysillyobject.age = age\n",
        "\n",
        "  def myfunc(abc):\n",
        "    print(\"Привет меня зовут \" + abc.name)\n",
        "\n",
        "p1 = Person(\"Иван\", 15)\n",
        "p1.myfunc()"
      ],
      "execution_count": 19,
      "outputs": [
        {
          "output_type": "stream",
          "text": [
            "Привет меня зовут Иван\n"
          ],
          "name": "stdout"
        }
      ]
    },
    {
      "cell_type": "markdown",
      "metadata": {
        "id": "p0qBuGYe1UeP"
      },
      "source": [
        "изменение свойств обьекта"
      ]
    },
    {
      "cell_type": "code",
      "metadata": {
        "colab": {
          "base_uri": "https://localhost:8080/"
        },
        "id": "EDssfnzG1XiC",
        "outputId": "dd07c860-8794-4eb9-f752-d9f1539c609d"
      },
      "source": [
        "class Person:\n",
        "  def __init__(mysillyobject, name, age):\n",
        "    mysillyobject.name = name\n",
        "    mysillyobject.age = age\n",
        "\n",
        "  def myfunc(abc):\n",
        "    print(\"Привет меня зовут \" + abc.name)\n",
        "\n",
        "p1 = Person(\"Иван\", 15)\n",
        "print(p1.age)\n",
        "p1.age = 40\n",
        "print(p1.age)"
      ],
      "execution_count": 27,
      "outputs": [
        {
          "output_type": "stream",
          "text": [
            "15\n",
            "40\n"
          ],
          "name": "stdout"
        }
      ]
    },
    {
      "cell_type": "markdown",
      "metadata": {
        "id": "oZdSXTCU2OMA"
      },
      "source": [
        "удаление свойств обьекта"
      ]
    },
    {
      "cell_type": "code",
      "metadata": {
        "colab": {
          "base_uri": "https://localhost:8080/",
          "height": 220
        },
        "id": "mm14Z-Uy2RWQ",
        "outputId": "48c5218a-e34d-4740-dd23-d0edfe371cd7"
      },
      "source": [
        "class Person:\n",
        "  def __init__(mysillyobject, name, age):\n",
        "    mysillyobject.name = name\n",
        "    mysillyobject.age = age\n",
        "\n",
        "  def myfunc(abc):\n",
        "    print(\"Привет меня зовут \" + abc.name)\n",
        "\n",
        "p1 = Person(\"Иван\", 15)\n",
        "print(p1.age)\n",
        "del p1.age\n",
        "print(p1.age)"
      ],
      "execution_count": 32,
      "outputs": [
        {
          "output_type": "stream",
          "text": [
            "15\n"
          ],
          "name": "stdout"
        },
        {
          "output_type": "error",
          "ename": "NameError",
          "evalue": "ignored",
          "traceback": [
            "\u001b[0;31m---------------------------------------------------------------------------\u001b[0m",
            "\u001b[0;31mNameError\u001b[0m                                 Traceback (most recent call last)",
            "\u001b[0;32m<ipython-input-32-a8453bd2ab3b>\u001b[0m in \u001b[0;36m<module>\u001b[0;34m()\u001b[0m\n\u001b[1;32m     10\u001b[0m \u001b[0mprint\u001b[0m\u001b[0;34m(\u001b[0m\u001b[0mp1\u001b[0m\u001b[0;34m.\u001b[0m\u001b[0mage\u001b[0m\u001b[0;34m)\u001b[0m\u001b[0;34m\u001b[0m\u001b[0;34m\u001b[0m\u001b[0m\n\u001b[1;32m     11\u001b[0m \u001b[0;32mdel\u001b[0m \u001b[0mp1\u001b[0m\u001b[0;34m\u001b[0m\u001b[0;34m\u001b[0m\u001b[0m\n\u001b[0;32m---> 12\u001b[0;31m \u001b[0mprint\u001b[0m\u001b[0;34m(\u001b[0m\u001b[0mp1\u001b[0m\u001b[0;34m.\u001b[0m\u001b[0mage\u001b[0m\u001b[0;34m)\u001b[0m\u001b[0;34m\u001b[0m\u001b[0;34m\u001b[0m\u001b[0m\n\u001b[0m",
            "\u001b[0;31mNameError\u001b[0m: name 'p1' is not defined"
          ]
        }
      ]
    },
    {
      "cell_type": "markdown",
      "metadata": {
        "id": "k6-Evjk-2356"
      },
      "source": [
        "Заявление о пропуске\n"
      ]
    },
    {
      "cell_type": "code",
      "metadata": {
        "id": "-VpPchHz2701"
      },
      "source": [
        "class Person:\n",
        "  pass"
      ],
      "execution_count": 36,
      "outputs": []
    }
  ]
}