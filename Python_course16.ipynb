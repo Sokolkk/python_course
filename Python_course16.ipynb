{
  "nbformat": 4,
  "nbformat_minor": 0,
  "metadata": {
    "colab": {
      "name": "Python_course.ipynb",
      "provenance": [],
      "authorship_tag": "ABX9TyNu7p/duVLc4Rbk+AJkWAL4",
      "include_colab_link": true
    },
    "kernelspec": {
      "name": "python3",
      "display_name": "Python 3"
    },
    "language_info": {
      "name": "python"
    }
  },
  "cells": [
    {
      "cell_type": "markdown",
      "metadata": {
        "id": "view-in-github",
        "colab_type": "text"
      },
      "source": [
        "<a href=\"https://colab.research.google.com/github/Sokolkk/python_course/blob/main/Python_course16.ipynb\" target=\"_parent\"><img src=\"https://colab.research.google.com/assets/colab-badge.svg\" alt=\"Open In Colab\"/></a>"
      ]
    },
    {
      "cell_type": "markdown",
      "metadata": {
        "id": "v-mzP5S8fRVN"
      },
      "source": [
        "#Модули python"
      ]
    },
    {
      "cell_type": "code",
      "metadata": {
        "id": "GzstVPDIn5fI",
        "colab": {
          "base_uri": "https://localhost:8080/"
        },
        "outputId": "84adc6c3-25f0-4d9a-c1b4-2e4c49b8b676"
      },
      "source": [
        "import mymodule\n",
        "mymodule.greeting(\"Petja\")"
      ],
      "execution_count": 19,
      "outputs": [
        {
          "output_type": "stream",
          "text": [
            "Привет, Petja\n"
          ],
          "name": "stdout"
        }
      ]
    },
    {
      "cell_type": "markdown",
      "metadata": {
        "id": "4XOR6zykpvDR"
      },
      "source": [
        "Переменные в модуле"
      ]
    },
    {
      "cell_type": "code",
      "metadata": {
        "colab": {
          "base_uri": "https://localhost:8080/"
        },
        "id": "QUBlivkxqIYQ",
        "outputId": "097ed617-7071-4301-bc95-613876cdcc98"
      },
      "source": [
        "import s as sasasassa\n",
        "\n",
        "a = sasasassa.person[\"Имя\"]\n",
        "print(a)"
      ],
      "execution_count": 40,
      "outputs": [
        {
          "output_type": "stream",
          "text": [
            "Ваня\n"
          ],
          "name": "stdout"
        }
      ]
    },
    {
      "cell_type": "markdown",
      "metadata": {
        "id": "6iqZ_-NisuNI"
      },
      "source": [
        "встроенные модули\n"
      ]
    },
    {
      "cell_type": "code",
      "metadata": {
        "id": "TMNGMnzisxj3"
      },
      "source": [
        "import calendar"
      ],
      "execution_count": null,
      "outputs": []
    },
    {
      "cell_type": "markdown",
      "metadata": {
        "id": "zgv3bVQ_tUXC"
      },
      "source": [
        "Использование функции dir ()\n"
      ]
    },
    {
      "cell_type": "code",
      "metadata": {
        "colab": {
          "base_uri": "https://localhost:8080/"
        },
        "id": "La9zFhoFtVRP",
        "outputId": "f689a228-d0f5-4fa4-ef39-cc30838531fc"
      },
      "source": [
        "import time\n",
        "\n",
        "a = dir(time)\n",
        "print(a)"
      ],
      "execution_count": 43,
      "outputs": [
        {
          "output_type": "stream",
          "text": [
            "['CLOCK_BOOTTIME', 'CLOCK_MONOTONIC', 'CLOCK_MONOTONIC_RAW', 'CLOCK_PROCESS_CPUTIME_ID', 'CLOCK_REALTIME', 'CLOCK_THREAD_CPUTIME_ID', '_STRUCT_TM_ITEMS', '__doc__', '__loader__', '__name__', '__package__', '__spec__', 'altzone', 'asctime', 'clock', 'clock_getres', 'clock_gettime', 'clock_gettime_ns', 'clock_settime', 'clock_settime_ns', 'ctime', 'daylight', 'get_clock_info', 'gmtime', 'localtime', 'mktime', 'monotonic', 'monotonic_ns', 'perf_counter', 'perf_counter_ns', 'process_time', 'process_time_ns', 'pthread_getcpuclockid', 'sleep', 'strftime', 'strptime', 'struct_time', 'thread_time', 'thread_time_ns', 'time', 'time_ns', 'timezone', 'tzname', 'tzset']\n"
          ],
          "name": "stdout"
        }
      ]
    },
    {
      "cell_type": "markdown",
      "metadata": {
        "id": "2coSdg1Ft7Hd"
      },
      "source": [
        " From.. Import"
      ]
    },
    {
      "cell_type": "code",
      "metadata": {
        "colab": {
          "base_uri": "https://localhost:8080/"
        },
        "id": "aisNSfFquCRv",
        "outputId": "c58f5c78-bb44-45c5-a24c-1a48da3c651a"
      },
      "source": [
        "from mymodule import greeting\n",
        "greeting(\"Petja\")"
      ],
      "execution_count": 46,
      "outputs": [
        {
          "output_type": "stream",
          "text": [
            "Привет, Petja\n"
          ],
          "name": "stdout"
        }
      ]
    }
  ]
}