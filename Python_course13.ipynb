{
  "nbformat": 4,
  "nbformat_minor": 0,
  "metadata": {
    "colab": {
      "name": "Python_course.ipynb",
      "provenance": [],
      "authorship_tag": "ABX9TyNHU/SZr9c8oFmH5ROVcWK4",
      "include_colab_link": true
    },
    "kernelspec": {
      "name": "python3",
      "display_name": "Python 3"
    },
    "language_info": {
      "name": "python"
    }
  },
  "cells": [
    {
      "cell_type": "markdown",
      "metadata": {
        "id": "view-in-github",
        "colab_type": "text"
      },
      "source": [
        "<a href=\"https://colab.research.google.com/github/Sokolkk/python_course/blob/main/Python_course13.ipynb\" target=\"_parent\"><img src=\"https://colab.research.google.com/assets/colab-badge.svg\" alt=\"Open In Colab\"/></a>"
      ]
    },
    {
      "cell_type": "markdown",
      "metadata": {
        "id": "wd-Rw_Mz6ZA3"
      },
      "source": [
        "#Наследование "
      ]
    },
    {
      "cell_type": "markdown",
      "metadata": {
        "id": "OZk5-pJR-WAO"
      },
      "source": [
        "родительский класс"
      ]
    },
    {
      "cell_type": "code",
      "metadata": {
        "colab": {
          "base_uri": "https://localhost:8080/"
        },
        "id": "Z8-mzgfM6bRA",
        "outputId": "3cb3734f-4bf8-4da8-fc94-37ea17cd705a"
      },
      "source": [
        "class Person:\n",
        "  def __init__(self, fname, lname):\n",
        "    self.firstname = fname\n",
        "    self.lastname = lname\n",
        "\n",
        "  def printname(self):\n",
        "    print(self.firstname, self.lastname)\n",
        "\n",
        "#Используйте класс Person для создания объекта, а затем выполните метод printname:\n",
        "\n",
        "x = Person(\"John\", \"Doe\")\n",
        "x.printname()"
      ],
      "execution_count": 39,
      "outputs": [
        {
          "output_type": "stream",
          "text": [
            "John Doe\n"
          ],
          "name": "stdout"
        }
      ]
    },
    {
      "cell_type": "markdown",
      "metadata": {
        "id": "tBtaNdAH-ynK"
      },
      "source": [
        "Дочерний класс"
      ]
    },
    {
      "cell_type": "code",
      "metadata": {
        "colab": {
          "base_uri": "https://localhost:8080/"
        },
        "id": "TUqhCOkN-0y_",
        "outputId": "83ec9377-1c28-4d48-c851-d04a76b670dd"
      },
      "source": [
        "class Student(Person):\n",
        "  pass\n",
        "x = Student(\"Вася\", \"Иванов\")\n",
        "x.printname()"
      ],
      "execution_count": 43,
      "outputs": [
        {
          "output_type": "stream",
          "text": [
            "Вася Иванов\n"
          ],
          "name": "stdout"
        }
      ]
    },
    {
      "cell_type": "markdown",
      "metadata": {
        "id": "5ToPIH46AFzO"
      },
      "source": [
        "Дочерняя функция __init __ ()"
      ]
    },
    {
      "cell_type": "code",
      "metadata": {
        "id": "HWFYQrc2AITM"
      },
      "source": [
        "#свой инит\n",
        "class Student(Person): \n",
        "  def __init__(self, fname, lname):\n",
        "    #какой-то код\n",
        " "
      ],
      "execution_count": 45,
      "outputs": []
    },
    {
      "cell_type": "code",
      "metadata": {
        "id": "WBVNoarzBiCp"
      },
      "source": [
        "#сохраняем наследование родительский инит функции\n",
        "class Student(Person):\n",
        "  def __init__(self, fname, lname):\n",
        "    Person.__init__(self, fname, lname)"
      ],
      "execution_count": null,
      "outputs": []
    },
    {
      "cell_type": "markdown",
      "metadata": {
        "id": "mxjXxCR_BwYu"
      },
      "source": [
        "функция super ()"
      ]
    },
    {
      "cell_type": "code",
      "metadata": {
        "id": "iKzX4iskCGpM"
      },
      "source": [
        "class Student(Person):\n",
        "  def __init__(self, fname, lname, year):\n",
        "    super().__init__(fname, lname)\n",
        "    #добавление свойства\n",
        "    self.graduationyear = year\n",
        "x = Student(\"Вася\", \"Иванов\", 2021)\n"
      ],
      "execution_count": 51,
      "outputs": []
    }
  ]
}