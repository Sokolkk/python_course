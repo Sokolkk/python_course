{
  "nbformat": 4,
  "nbformat_minor": 0,
  "metadata": {
    "colab": {
      "name": "Python_Course.ipynb",
      "provenance": [],
      "include_colab_link": true
    },
    "kernelspec": {
      "name": "python3",
      "display_name": "Python 3"
    },
    "language_info": {
      "name": "python"
    }
  },
  "cells": [
    {
      "cell_type": "markdown",
      "metadata": {
        "id": "view-in-github",
        "colab_type": "text"
      },
      "source": [
        "<a href=\"https://colab.research.google.com/github/Sokolkk/python_course/blob/main/Python_Course4.ipynb\" target=\"_parent\"><img src=\"https://colab.research.google.com/assets/colab-badge.svg\" alt=\"Open In Colab\"/></a>"
      ]
    },
    {
      "cell_type": "markdown",
      "metadata": {
        "id": "YgA5YaI1-QoJ"
      },
      "source": [
        "**Списки**"
      ]
    },
    {
      "cell_type": "code",
      "metadata": {
        "id": "2Og1MFoK700t",
        "outputId": "13d1d01d-761c-494a-bf71-0ea8c97b6dce",
        "colab": {
          "base_uri": "https://localhost:8080/"
        }
      },
      "source": [
        "mylist = [\"яблоко\", \"банан\", \"вишня\", \"яблоко\"]\n",
        "print(len(mylist))"
      ],
      "execution_count": 5,
      "outputs": [
        {
          "output_type": "stream",
          "text": [
            "4\n"
          ],
          "name": "stdout"
        }
      ]
    },
    {
      "cell_type": "code",
      "metadata": {
        "id": "o0TBB64tChZN"
      },
      "source": [
        "list1 = [\"яблоко\", \"банан\", \"вишня\"]\n",
        "list2 = [1, 3, 7, 9, 5]\n",
        "list3 = [True, False, False]"
      ],
      "execution_count": null,
      "outputs": []
    },
    {
      "cell_type": "code",
      "metadata": {
        "id": "aDBcubnmCnHm"
      },
      "source": [
        "list1 = [\"abc\", 34, True, 40, \"male\"]\n"
      ],
      "execution_count": 6,
      "outputs": []
    },
    {
      "cell_type": "code",
      "metadata": {
        "id": "aFKPZ-o5DBMl",
        "outputId": "e5b67386-7612-421c-cdd7-bf1565b45ccc",
        "colab": {
          "base_uri": "https://localhost:8080/"
        }
      },
      "source": [
        "print(type(list1))"
      ],
      "execution_count": 7,
      "outputs": [
        {
          "output_type": "stream",
          "text": [
            "<class 'list'>\n"
          ],
          "name": "stdout"
        }
      ]
    },
    {
      "cell_type": "code",
      "metadata": {
        "id": "1k54z49XDZn3",
        "outputId": "1f2212bf-6691-4572-9c62-f6326d61583f",
        "colab": {
          "base_uri": "https://localhost:8080/"
        }
      },
      "source": [
        "list11 = list((\"яблоко\", \"банан\", \"вишня\"))#двойные скобки\n",
        "print(list11)"
      ],
      "execution_count": 13,
      "outputs": [
        {
          "output_type": "stream",
          "text": [
            "['яблоко', 'банан', 'вишня']\n"
          ],
          "name": "stdout"
        }
      ]
    },
    {
      "cell_type": "code",
      "metadata": {
        "id": "wP_Ca9JUFGH_",
        "outputId": "dcd11311-75a1-4716-88fb-d3858893b491",
        "colab": {
          "base_uri": "https://localhost:8080/"
        }
      },
      "source": [
        "mylist = [\"яблоко\", \"банан\", \"вишня\", \"яблоко\"]\n",
        "print(mylist[0])"
      ],
      "execution_count": 15,
      "outputs": [
        {
          "output_type": "stream",
          "text": [
            "яблоко\n"
          ],
          "name": "stdout"
        }
      ]
    },
    {
      "cell_type": "code",
      "metadata": {
        "id": "JJMgJHKBFGZS",
        "outputId": "08d77261-38fd-43e1-d6d4-2b3dd575e684",
        "colab": {
          "base_uri": "https://localhost:8080/"
        }
      },
      "source": [
        "mylist = [\"яблоко\", \"банан\", \"вишня\", \"яблоко\"]\n",
        "print(mylist[0:4])"
      ],
      "execution_count": 19,
      "outputs": [
        {
          "output_type": "stream",
          "text": [
            "['яблоко', 'банан', 'вишня', 'яблоко']\n"
          ],
          "name": "stdout"
        }
      ]
    },
    {
      "cell_type": "code",
      "metadata": {
        "id": "_4sxoPqxFGiP"
      },
      "source": [
        "mylist = [\"яблоко\", \"банан\", \"вишня\", \"яблоко\"]\n",
        "print(mylist[:3])"
      ],
      "execution_count": null,
      "outputs": []
    },
    {
      "cell_type": "code",
      "metadata": {
        "id": "X9naY1NsFRAt"
      },
      "source": [
        "mylist = [\"яблоко\", \"банан\", \"вишня\", \"яблоко\"]\n",
        "print(mylist[0:])"
      ],
      "execution_count": null,
      "outputs": []
    },
    {
      "cell_type": "code",
      "metadata": {
        "id": "4wrEReR2FROk",
        "outputId": "a2c849b7-7034-4b70-dae3-74933bc5083b",
        "colab": {
          "base_uri": "https://localhost:8080/"
        }
      },
      "source": [
        "mylist = [\"яблоко\", \"банан\", \"вишня\", \"яблоко\"]\n",
        "print(mylist[-3:-1])"
      ],
      "execution_count": 20,
      "outputs": [
        {
          "output_type": "stream",
          "text": [
            "['банан', 'вишня']\n"
          ],
          "name": "stdout"
        }
      ]
    },
    {
      "cell_type": "code",
      "metadata": {
        "id": "Dm50yAFHFRP1",
        "outputId": "67eb02e8-c7a3-4908-9eda-af7e4eb56b24",
        "colab": {
          "base_uri": "https://localhost:8080/"
        }
      },
      "source": [
        "thislist = [\"яблоко\", \"банан\", \"вишня\", \"яблоко\"]\n",
        "if \"банан\" in thislist:\n",
        "  print(\"банан тут\")"
      ],
      "execution_count": 23,
      "outputs": [
        {
          "output_type": "stream",
          "text": [
            "банан тут\n"
          ],
          "name": "stdout"
        }
      ]
    },
    {
      "cell_type": "markdown",
      "metadata": {
        "id": "fLqY5NTfSvqs"
      },
      "source": [
        "**замена** **элемента**"
      ]
    },
    {
      "cell_type": "code",
      "metadata": {
        "id": "6f9UZJDhGvcY",
        "outputId": "7a0714e8-abb2-4e1e-9069-95280a558584",
        "colab": {
          "base_uri": "https://localhost:8080/"
        }
      },
      "source": [
        "mylist = [\"яблоко\", \"банан\", \"вишня\", \"яблоко\"]\n",
        "mylist[3]= \"апельсин\"\n",
        "print(mylist)"
      ],
      "execution_count": 24,
      "outputs": [
        {
          "output_type": "stream",
          "text": [
            "['яблоко', 'банан', 'вишня', 'апельсин']\n"
          ],
          "name": "stdout"
        }
      ]
    },
    {
      "cell_type": "code",
      "metadata": {
        "id": "cXn0W7e6JHZH",
        "outputId": "fd4f6207-625d-48c4-caa7-19763e7c2445",
        "colab": {
          "base_uri": "https://localhost:8080/"
        }
      },
      "source": [
        "mylist = [\"яблоко\", \"банан\", \"вишня\", \"апельсин\"]\n",
        "mylist[1:2] = \"апельсин\" , \"апельсин\"\n",
        "\n",
        "print(mylist)"
      ],
      "execution_count": 38,
      "outputs": [
        {
          "output_type": "stream",
          "text": [
            "['яблоко', 'апельсин', 'апельсин', 'вишня', 'апельсин']\n"
          ],
          "name": "stdout"
        }
      ]
    },
    {
      "cell_type": "code",
      "metadata": {
        "id": "qylgIJ4gHYdq",
        "outputId": "0a5fda1c-83fb-4890-ede3-099b2743012f",
        "colab": {
          "base_uri": "https://localhost:8080/"
        }
      },
      "source": [
        "mylist = [\"яблоко\", \"банан\", \"вишня\", \"апельсин\"]\n",
        "mylist[1:3] = \"апельсин\" , \"апельсин\"\n",
        "\n",
        "print(mylist)"
      ],
      "execution_count": 37,
      "outputs": [
        {
          "output_type": "stream",
          "text": [
            "['яблоко', 'апельсин', 'апельсин', 'апельсин']\n"
          ],
          "name": "stdout"
        }
      ]
    },
    {
      "cell_type": "code",
      "metadata": {
        "id": "Lc-Ptsa1JKSO",
        "outputId": "0589ff65-a8eb-4b2b-ad33-a1ec6135e1d3",
        "colab": {
          "base_uri": "https://localhost:8080/"
        }
      },
      "source": [
        "mylist = [\"яблоко\", \"банан\", \"вишня\", \"апельсин\"]\n",
        "mylist[1:3] = [\"апельсин\"]\n",
        "print(mylist)"
      ],
      "execution_count": 42,
      "outputs": [
        {
          "output_type": "stream",
          "text": [
            "['яблоко', 'апельсин', 'апельсин']\n"
          ],
          "name": "stdout"
        }
      ]
    },
    {
      "cell_type": "markdown",
      "metadata": {
        "id": "UGj2SqBASpwM"
      },
      "source": [
        "**добавление** **элемента**"
      ]
    },
    {
      "cell_type": "code",
      "metadata": {
        "id": "1Us4Ob-UJvTc",
        "outputId": "e6641f7d-9792-4248-c715-76b202d30343",
        "colab": {
          "base_uri": "https://localhost:8080/"
        }
      },
      "source": [
        "mylist = ['яблоко', 'апельсин', 'апельсин']\n",
        "mylist.insert(2,\"вишня\")\n",
        "print(mylist)"
      ],
      "execution_count": 45,
      "outputs": [
        {
          "output_type": "stream",
          "text": [
            "['яблоко', 'апельсин', 'вишня', 'апельсин']\n"
          ],
          "name": "stdout"
        }
      ]
    },
    {
      "cell_type": "code",
      "metadata": {
        "id": "sOISwFkqKUPO",
        "outputId": "31617dee-b2e9-4425-bbac-0fbe3f586fc3",
        "colab": {
          "base_uri": "https://localhost:8080/"
        }
      },
      "source": [
        "mylist = ['яблоко', 'апельсин', 'апельсин']\n",
        "mylist.append(\"вишня\")\n",
        "print(mylist)"
      ],
      "execution_count": 46,
      "outputs": [
        {
          "output_type": "stream",
          "text": [
            "['яблоко', 'апельсин', 'апельсин', 'вишня']\n"
          ],
          "name": "stdout"
        }
      ]
    },
    {
      "cell_type": "code",
      "metadata": {
        "id": "bLmp8z86KqQ6",
        "outputId": "dc301418-57a5-4603-9983-84e6ff1b09e0",
        "colab": {
          "base_uri": "https://localhost:8080/"
        }
      },
      "source": [
        "mylist = ['яблоко', 'апельсин', 'апельсин']\n",
        "vegetables = [\"морковь\", \"капуста\", \"перец\"]\n",
        "mylist.extend(vegetables)\n",
        "print(mylist)"
      ],
      "execution_count": 48,
      "outputs": [
        {
          "output_type": "stream",
          "text": [
            "['яблоко', 'апельсин', 'апельсин', 'морковь', 'капуста', 'перец']\n"
          ],
          "name": "stdout"
        }
      ]
    },
    {
      "cell_type": "code",
      "metadata": {
        "id": "9Cd6mzudLeBh",
        "outputId": "661f5f61-0f64-4010-b31a-0b3a9b9b5862",
        "colab": {
          "base_uri": "https://localhost:8080/"
        }
      },
      "source": [
        "mylist = ['яблоко', 'апельсин', 'апельсин']\n",
        "vegetables = (\"морковь\", \"капуста\", \"перец\")\n",
        "mylist.extend(vegetables)\n",
        "print(mylist)"
      ],
      "execution_count": 49,
      "outputs": [
        {
          "output_type": "stream",
          "text": [
            "['яблоко', 'апельсин', 'апельсин', 'морковь', 'капуста', 'перец']\n"
          ],
          "name": "stdout"
        }
      ]
    },
    {
      "cell_type": "markdown",
      "metadata": {
        "id": "FnratZz0ShG1"
      },
      "source": [
        "**удаление** **элемента**"
      ]
    },
    {
      "cell_type": "code",
      "metadata": {
        "id": "kjutsuriLuYp",
        "outputId": "04e0ae7f-9cc6-4ad5-e0a7-ddc3566bbce7",
        "colab": {
          "base_uri": "https://localhost:8080/"
        }
      },
      "source": [
        "mylist = ['яблоко', 'апельсин', 'апельсин']\n",
        "mylist.remove('апельсин')\n",
        "print(mylist)"
      ],
      "execution_count": 51,
      "outputs": [
        {
          "output_type": "stream",
          "text": [
            "['яблоко', 'апельсин']\n"
          ],
          "name": "stdout"
        }
      ]
    },
    {
      "cell_type": "code",
      "metadata": {
        "id": "Rxm05qdHMW9q",
        "outputId": "db6eab79-c478-441e-f535-30bd7d3b5fef",
        "colab": {
          "base_uri": "https://localhost:8080/"
        }
      },
      "source": [
        "mylist = ['яблоко', 'апельсин', 'апельсин']\n",
        "mylist.pop(2)\n",
        "print(mylist)"
      ],
      "execution_count": 55,
      "outputs": [
        {
          "output_type": "stream",
          "text": [
            "['яблоко', 'апельсин']\n"
          ],
          "name": "stdout"
        }
      ]
    },
    {
      "cell_type": "code",
      "metadata": {
        "id": "DByl7HZLM0Us",
        "outputId": "2137db62-2e74-431e-f7cf-fbf40d116bc2",
        "colab": {
          "base_uri": "https://localhost:8080/"
        }
      },
      "source": [
        "mylist = ['яблоко', 'апельсин', 'апельсин']\n",
        "mylist.pop()\n",
        "print(mylist)"
      ],
      "execution_count": 56,
      "outputs": [
        {
          "output_type": "stream",
          "text": [
            "['яблоко', 'апельсин']\n"
          ],
          "name": "stdout"
        }
      ]
    },
    {
      "cell_type": "code",
      "metadata": {
        "id": "w4Z17tSsM5Eo",
        "outputId": "e7bf27f0-bb9c-40df-b9c8-b626ce4aa688",
        "colab": {
          "base_uri": "https://localhost:8080/"
        }
      },
      "source": [
        "mylist = ['яблоко', 'апельсин', 'апельсин']\n",
        "del mylist[2]\n",
        "print(mylist)"
      ],
      "execution_count": 60,
      "outputs": [
        {
          "output_type": "stream",
          "text": [
            "['яблоко', 'апельсин']\n"
          ],
          "name": "stdout"
        }
      ]
    },
    {
      "cell_type": "code",
      "metadata": {
        "id": "R3PZeDs2NX5_",
        "outputId": "ca545d7f-2e83-4e44-8eb7-8730ae523ed6",
        "colab": {
          "base_uri": "https://localhost:8080/"
        }
      },
      "source": [
        "mylist = ['яблоко', 'апельсин', 'апельсин']\n",
        "mylist.clear()\n",
        "print(mylist)"
      ],
      "execution_count": 62,
      "outputs": [
        {
          "output_type": "stream",
          "text": [
            "[]\n"
          ],
          "name": "stdout"
        }
      ]
    },
    {
      "cell_type": "markdown",
      "metadata": {
        "id": "znKqNtLfSV4F"
      },
      "source": [
        "**циклы** **списка**"
      ]
    },
    {
      "cell_type": "code",
      "metadata": {
        "id": "WVVgxX2UN6Hm",
        "outputId": "377c6b3c-5697-4125-eeb9-bb91b197d688",
        "colab": {
          "base_uri": "https://localhost:8080/"
        }
      },
      "source": [
        "mylist = ['яблоко', 'апельсин', 'апельсин']\n",
        "for x in mylist:\n",
        "  print(x)\n"
      ],
      "execution_count": 64,
      "outputs": [
        {
          "output_type": "stream",
          "text": [
            "яблоко\n",
            "апельсин\n",
            "апельсин\n"
          ],
          "name": "stdout"
        }
      ]
    },
    {
      "cell_type": "code",
      "metadata": {
        "id": "xSRDTf72Ohxb",
        "outputId": "facd445b-c0ad-4890-8ce6-cc5d15b6862b",
        "colab": {
          "base_uri": "https://localhost:8080/"
        }
      },
      "source": [
        "mylist = ['яблоко', 'апельсин', 'апельсин']\n",
        "for i in range(len(mylist)):\n",
        "  print(mylist[i])"
      ],
      "execution_count": 66,
      "outputs": [
        {
          "output_type": "stream",
          "text": [
            "яблоко\n",
            "апельсин\n",
            "апельсин\n"
          ],
          "name": "stdout"
        }
      ]
    },
    {
      "cell_type": "code",
      "metadata": {
        "id": "REuQF7-yPah0",
        "outputId": "55c3a89b-4f5a-4394-9dbb-74b921048a34",
        "colab": {
          "base_uri": "https://localhost:8080/"
        }
      },
      "source": [
        "mylist = ['яблоко', 'апельсин', 'апельсин']\n",
        "i = 0\n",
        "while i < len(mylist):\n",
        "  print(mylist[i])\n",
        "  i = i + 1"
      ],
      "execution_count": 68,
      "outputs": [
        {
          "output_type": "stream",
          "text": [
            "яблоко\n",
            "апельсин\n",
            "апельсин\n"
          ],
          "name": "stdout"
        }
      ]
    },
    {
      "cell_type": "markdown",
      "metadata": {
        "id": "mfgMxN1vSJMf"
      },
      "source": [
        "**понимание** **списков**"
      ]
    },
    {
      "cell_type": "code",
      "metadata": {
        "id": "XJdmtuiGRZbo",
        "outputId": "13be0dd9-d01d-4049-8e97-1d957a67fc49",
        "colab": {
          "base_uri": "https://localhost:8080/"
        }
      },
      "source": [
        "mylist = ['яблоко', 'апельсин', 'апельсин']\n",
        "[print(x) for x in mylist]"
      ],
      "execution_count": 77,
      "outputs": [
        {
          "output_type": "stream",
          "text": [
            "яблоко\n",
            "апельсин\n",
            "апельсин\n"
          ],
          "name": "stdout"
        },
        {
          "output_type": "execute_result",
          "data": {
            "text/plain": [
              "[None, None, None]"
            ]
          },
          "metadata": {
            "tags": []
          },
          "execution_count": 77
        }
      ]
    },
    {
      "cell_type": "code",
      "metadata": {
        "id": "dFyflhQISFEf",
        "outputId": "c36955dc-dfad-4d66-8766-532f15a23627",
        "colab": {
          "base_uri": "https://localhost:8080/"
        }
      },
      "source": [
        "fruits = ['яблоко', 'апельсин', 'банан']\n",
        "newlist = []\n",
        "\n",
        "for x in fruits:\n",
        "  if \"а\" in x:\n",
        "    newlist.append(x)\n",
        "\n",
        "print(newlist)"
      ],
      "execution_count": 82,
      "outputs": [
        {
          "output_type": "stream",
          "text": [
            "['апельсин', 'банан']\n"
          ],
          "name": "stdout"
        }
      ]
    },
    {
      "cell_type": "code",
      "metadata": {
        "colab": {
          "base_uri": "https://localhost:8080/"
        },
        "id": "ZnqALRHlTY9Y",
        "outputId": "f2bec45f-0f3b-482d-8c11-cd30b710dcee"
      },
      "source": [
        "fruits = ['яблоко', 'апельсин', 'банан']\n",
        "\n",
        "newlist = [x for x in fruits if \"а\" in x]\n",
        "\n",
        "print(newlist)"
      ],
      "execution_count": 85,
      "outputs": [
        {
          "output_type": "stream",
          "text": [
            "['апельсин', 'банан']\n"
          ],
          "name": "stdout"
        }
      ]
    },
    {
      "cell_type": "code",
      "metadata": {
        "id": "5TV9y4doT_MF",
        "outputId": "1dbc90bb-e07b-44d8-c656-8a64cf656120",
        "colab": {
          "base_uri": "https://localhost:8080/"
        }
      },
      "source": [
        "fruits = ['яблоко', 'апельсин', 'банан']\n",
        "newlist = [x for x in fruits if x != \"банан\"]\n",
        "print(newlist)"
      ],
      "execution_count": 88,
      "outputs": [
        {
          "output_type": "stream",
          "text": [
            "['яблоко', 'апельсин']\n"
          ],
          "name": "stdout"
        }
      ]
    },
    {
      "cell_type": "code",
      "metadata": {
        "id": "EGSRweckUX9G",
        "outputId": "d1bd6eec-4b06-422d-cac7-0b48c0999096",
        "colab": {
          "base_uri": "https://localhost:8080/"
        }
      },
      "source": [
        "fruits = ['яблоко', 'апельсин', 'банан']\n",
        "newlist = [x for x in fruits]\n",
        "print(newlist)"
      ],
      "execution_count": 90,
      "outputs": [
        {
          "output_type": "stream",
          "text": [
            "['яблоко', 'апельсин', 'банан']\n"
          ],
          "name": "stdout"
        }
      ]
    },
    {
      "cell_type": "code",
      "metadata": {
        "id": "alSOtdcsUsNz",
        "outputId": "15b0fe2d-d272-47d2-dc89-dcd2538f4edc",
        "colab": {
          "base_uri": "https://localhost:8080/"
        }
      },
      "source": [
        "newlist = [x for x in range(10) if x < 4]\n",
        "print(newlist)"
      ],
      "execution_count": 95,
      "outputs": [
        {
          "output_type": "stream",
          "text": [
            "[0, 1, 2, 3]\n"
          ],
          "name": "stdout"
        }
      ]
    },
    {
      "cell_type": "code",
      "metadata": {
        "id": "wooLuxr8Vi2k",
        "outputId": "4110a482-5aa7-437f-dc4b-60c1347117e4",
        "colab": {
          "base_uri": "https://localhost:8080/"
        }
      },
      "source": [
        "fruits = ['яблоко', 'апельсин', 'банан']\n",
        "newlist = [x.upper() for x in fruits]\n",
        "print(newlist)"
      ],
      "execution_count": 100,
      "outputs": [
        {
          "output_type": "stream",
          "text": [
            "['ЯБЛОКО', 'АПЕЛЬСИН', 'БАНАН']\n"
          ],
          "name": "stdout"
        }
      ]
    },
    {
      "cell_type": "code",
      "metadata": {
        "id": "7bxak1B2VlyA",
        "outputId": "9f0516ad-b605-4d68-c683-08205e23e4f3",
        "colab": {
          "base_uri": "https://localhost:8080/"
        }
      },
      "source": [
        "fruits = ['яблоко', 'апельсин', 'банан']\n",
        "newlist = ['hello' for x in fruits]\n",
        "print(newlist)"
      ],
      "execution_count": 101,
      "outputs": [
        {
          "output_type": "stream",
          "text": [
            "['hello', 'hello', 'hello']\n"
          ],
          "name": "stdout"
        }
      ]
    },
    {
      "cell_type": "markdown",
      "metadata": {
        "id": "NrAG_-L9WWTF"
      },
      "source": [
        "**Сортировка** **списка**"
      ]
    },
    {
      "cell_type": "code",
      "metadata": {
        "id": "T4tDWd9ChoDW",
        "outputId": "7281bd3f-2c0a-4d36-a989-a8445e6cca05",
        "colab": {
          "base_uri": "https://localhost:8080/"
        }
      },
      "source": [
        "mylist = ['яблоко', 'апельсин', 'киви', 'вишня', 'клубника', 'груша']\n",
        "mylist.sort()\n",
        "print(mylist)"
      ],
      "execution_count": 3,
      "outputs": [
        {
          "output_type": "stream",
          "text": [
            "['апельсин', 'вишня', 'груша', 'киви', 'клубника', 'яблоко']\n"
          ],
          "name": "stdout"
        }
      ]
    },
    {
      "cell_type": "code",
      "metadata": {
        "id": "VUXguqMqhoGE",
        "outputId": "08813400-9418-481f-c3cc-b5ff6f649dd2",
        "colab": {
          "base_uri": "https://localhost:8080/"
        }
      },
      "source": [
        "mylist = [4, 1, 220, 100, 193, 44]\n",
        "mylist.sort()\n",
        "print(mylist)"
      ],
      "execution_count": 4,
      "outputs": [
        {
          "output_type": "stream",
          "text": [
            "[1, 4, 44, 100, 193, 220]\n"
          ],
          "name": "stdout"
        }
      ]
    },
    {
      "cell_type": "code",
      "metadata": {
        "id": "3WoXlNmpmKUZ",
        "outputId": "b16f1063-07eb-4875-cb19-e8e7b669171a",
        "colab": {
          "base_uri": "https://localhost:8080/"
        }
      },
      "source": [
        "mylist = ['яблоко', 'апельсин', 'киви', 'вишня', 'клубника', 'груша']\n",
        "mylist.sort(reverse=True)\n",
        "print(mylist)"
      ],
      "execution_count": 6,
      "outputs": [
        {
          "output_type": "stream",
          "text": [
            "['яблоко', 'клубника', 'киви', 'груша', 'вишня', 'апельсин']\n"
          ],
          "name": "stdout"
        }
      ]
    },
    {
      "cell_type": "code",
      "metadata": {
        "id": "IDmrwqHUmavh",
        "outputId": "2bd2a14c-03f7-459d-83f2-cdd723b3c9bc",
        "colab": {
          "base_uri": "https://localhost:8080/"
        }
      },
      "source": [
        "mylist = [4, 1, 220, 100, 193, 44]\n",
        "mylist.sort(reverse=True)\n",
        "print(mylist)"
      ],
      "execution_count": 7,
      "outputs": [
        {
          "output_type": "stream",
          "text": [
            "[220, 193, 100, 44, 4, 1]\n"
          ],
          "name": "stdout"
        }
      ]
    },
    {
      "cell_type": "code",
      "metadata": {
        "id": "RTdO8EH_msp9",
        "outputId": "71628034-ac7d-40dd-cdf4-f6cfb3705a05",
        "colab": {
          "base_uri": "https://localhost:8080/"
        }
      },
      "source": [
        "def myfunc(n):\n",
        "  return abs(n - 100)\n",
        "\n",
        "mylist = [4, 1, 220, 100, 193, 44]\n",
        "mylist.sort(key = myfunc)\n",
        "print(mylist)"
      ],
      "execution_count": 10,
      "outputs": [
        {
          "output_type": "stream",
          "text": [
            "[100, 44, 193, 4, 1, 220]\n"
          ],
          "name": "stdout"
        }
      ]
    },
    {
      "cell_type": "code",
      "metadata": {
        "id": "-axGa9PknfU_",
        "outputId": "31192b5e-be14-4ca8-8483-499f41d2d604",
        "colab": {
          "base_uri": "https://localhost:8080/"
        }
      },
      "source": [
        "mylist = ['яблоко', 'Апельсин', 'Киви', 'вишня', 'клубника', 'груша']\n",
        "mylist.sort()\n",
        "print(mylist)"
      ],
      "execution_count": 12,
      "outputs": [
        {
          "output_type": "stream",
          "text": [
            "['Апельсин', 'Киви', 'вишня', 'груша', 'клубника', 'яблоко']\n"
          ],
          "name": "stdout"
        }
      ]
    },
    {
      "cell_type": "code",
      "metadata": {
        "id": "uTJgM65SnzXO",
        "outputId": "2109e02a-939c-4f91-a2f6-748e71d117b7",
        "colab": {
          "base_uri": "https://localhost:8080/"
        }
      },
      "source": [
        "mylist = ['яблоко', 'Апельсин', 'Киви', 'вишня', 'клубника', 'груша']\n",
        "mylist.sort(key = str.lower)\n",
        "print(mylist)"
      ],
      "execution_count": 14,
      "outputs": [
        {
          "output_type": "stream",
          "text": [
            "['Апельсин', 'вишня', 'груша', 'Киви', 'клубника', 'яблоко']\n"
          ],
          "name": "stdout"
        }
      ]
    },
    {
      "cell_type": "code",
      "metadata": {
        "id": "_QqEnze4oRJQ",
        "outputId": "7c59addc-d684-4558-dc0b-3855b3fec67d",
        "colab": {
          "base_uri": "https://localhost:8080/"
        }
      },
      "source": [
        "mylist = ['яблоко', 'Апельсин', 'Киви', 'вишня', 'клубника', 'груша']\n",
        "mylist.reverse()\n",
        "print(mylist)"
      ],
      "execution_count": 18,
      "outputs": [
        {
          "output_type": "stream",
          "text": [
            "['груша', 'клубника', 'вишня', 'Киви', 'Апельсин', 'яблоко']\n"
          ],
          "name": "stdout"
        }
      ]
    },
    {
      "cell_type": "markdown",
      "metadata": {
        "id": "JuWLA4uOolqn"
      },
      "source": [
        "**Копирование** **списка**"
      ]
    },
    {
      "cell_type": "code",
      "metadata": {
        "id": "HHsNuRsnoo0-",
        "outputId": "563edd6f-fe02-40b3-b06e-c2803747cbec",
        "colab": {
          "base_uri": "https://localhost:8080/"
        }
      },
      "source": [
        "mylist1 = ['яблоко', 'Апельсин', 'Киви', 'вишня', 'клубника', 'груша']\n",
        "mylist2 = mylist1.copy()\n",
        "print(mylist2)"
      ],
      "execution_count": 20,
      "outputs": [
        {
          "output_type": "stream",
          "text": [
            "['яблоко', 'Апельсин', 'Киви', 'вишня', 'клубника', 'груша']\n"
          ],
          "name": "stdout"
        }
      ]
    },
    {
      "cell_type": "code",
      "metadata": {
        "id": "oQvQJTBupWtY",
        "outputId": "0db424b5-5d0e-4e8f-c108-9e640821d3eb",
        "colab": {
          "base_uri": "https://localhost:8080/"
        }
      },
      "source": [
        "mylist1 = ['яблоко', 'Апельсин', 'Киви', 'вишня', 'клубника', 'груша']\n",
        "mylist2 = list(mylist1)\n",
        "print(mylist2)"
      ],
      "execution_count": 22,
      "outputs": [
        {
          "output_type": "stream",
          "text": [
            "['яблоко', 'Апельсин', 'Киви', 'вишня', 'клубника', 'груша']\n"
          ],
          "name": "stdout"
        }
      ]
    },
    {
      "cell_type": "markdown",
      "metadata": {
        "id": "WNN0SKdzprEQ"
      },
      "source": [
        "**Объединение** **списков**"
      ]
    },
    {
      "cell_type": "code",
      "metadata": {
        "id": "MR04vsJLpv2U",
        "outputId": "c527d7ff-9696-4fb3-bb9d-d8f8ee90ea16",
        "colab": {
          "base_uri": "https://localhost:8080/"
        }
      },
      "source": [
        "mylist1 = ['вишня', 'клубника', 'груша']\n",
        "mylist2 = ['яблоко', 'Апельсин', 'Киви']\n",
        "mylist3 = mylist1 + mylist2\n",
        "print(mylist3)"
      ],
      "execution_count": 25,
      "outputs": [
        {
          "output_type": "stream",
          "text": [
            "['вишня', 'клубника', 'груша', 'яблоко', 'Апельсин', 'Киви']\n"
          ],
          "name": "stdout"
        }
      ]
    },
    {
      "cell_type": "code",
      "metadata": {
        "id": "HsR3qldHqauJ",
        "outputId": "f408ae0c-c685-4c6d-99fb-342d39c2b18f",
        "colab": {
          "base_uri": "https://localhost:8080/"
        }
      },
      "source": [
        "mylist1 = ['вишня', 'клубника', 'груша']\n",
        "mylist2 = ['яблоко', 'Апельсин', 'Киви']\n",
        "\n",
        "for x in mylist2:\n",
        "  mylist1.append(x)\n",
        "\n",
        "print(mylist1)\n"
      ],
      "execution_count": 29,
      "outputs": [
        {
          "output_type": "stream",
          "text": [
            "['вишня', 'клубника', 'груша', 'яблоко', 'Апельсин', 'Киви']\n"
          ],
          "name": "stdout"
        }
      ]
    },
    {
      "cell_type": "code",
      "metadata": {
        "id": "LnBey2maq5Zw",
        "outputId": "e6b74c7e-77e1-4853-d32f-bd439e94b0bb",
        "colab": {
          "base_uri": "https://localhost:8080/"
        }
      },
      "source": [
        "mylist1 = ['вишня', 'клубника', 'груша']\n",
        "mylist2 = ['яблоко', 'Апельсин', 'Киви']\n",
        "\n",
        "mylist1.extend(mylist2)\n",
        "\n",
        "print(mylist1)\n"
      ],
      "execution_count": 30,
      "outputs": [
        {
          "output_type": "stream",
          "text": [
            "['вишня', 'клубника', 'груша', 'яблоко', 'Апельсин', 'Киви']\n"
          ],
          "name": "stdout"
        }
      ]
    }
  ]
}