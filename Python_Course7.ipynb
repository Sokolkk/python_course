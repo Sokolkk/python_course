{
  "nbformat": 4,
  "nbformat_minor": 0,
  "metadata": {
    "colab": {
      "name": "Python_Course.ipynb",
      "provenance": [],
      "include_colab_link": true
    },
    "kernelspec": {
      "name": "python3",
      "display_name": "Python 3"
    },
    "language_info": {
      "name": "python"
    }
  },
  "cells": [
    {
      "cell_type": "markdown",
      "metadata": {
        "id": "view-in-github",
        "colab_type": "text"
      },
      "source": [
        "<a href=\"https://colab.research.google.com/github/Sokolkk/python_course/blob/main/Python_Course7.ipynb\" target=\"_parent\"><img src=\"https://colab.research.google.com/assets/colab-badge.svg\" alt=\"Open In Colab\"/></a>"
      ]
    },
    {
      "cell_type": "markdown",
      "metadata": {
        "id": "K9hQK24GrEzW"
      },
      "source": [
        "**Словари**"
      ]
    },
    {
      "cell_type": "code",
      "metadata": {
        "id": "bHAdgcrgrIZu",
        "outputId": "6e4d666f-4a51-4cb3-e6eb-94949aa8b7c9",
        "colab": {
          "base_uri": "https://localhost:8080/"
        }
      },
      "source": [
        "mydict = {\n",
        "  \"Бренд\": \"Apple\",\n",
        "  \"Модель\": \"iPhone 12 Pro Max\",\n",
        "  \"Год выпуска\": 2020\n",
        "}\n",
        "print(mydict)\n"
      ],
      "execution_count": 5,
      "outputs": [
        {
          "output_type": "stream",
          "text": [
            "{'Бренд': 'Apple', 'Модель': 'iPhone 12 Pro Max', 'Год выпуска': 2020}\n"
          ],
          "name": "stdout"
        }
      ]
    },
    {
      "cell_type": "code",
      "metadata": {
        "id": "LqkyXczNIBW3",
        "outputId": "6ee9ce12-2c8d-49b0-801b-767f6f520a85",
        "colab": {
          "base_uri": "https://localhost:8080/"
        }
      },
      "source": [
        "mydict = {\n",
        "  \"Бренд\": \"Apple\",\n",
        "  \"Модель\": \"iPhone 12 Pro Max\",\n",
        "  \"Год выпуска\": 2020\n",
        "}\n",
        "print(type(mydict))\n"
      ],
      "execution_count": 6,
      "outputs": [
        {
          "output_type": "stream",
          "text": [
            "<class 'dict'>\n"
          ],
          "name": "stdout"
        }
      ]
    },
    {
      "cell_type": "code",
      "metadata": {
        "id": "lhhmLIvyIeX0",
        "outputId": "52fca800-a562-4ed4-fcd8-dd42587b08d8",
        "colab": {
          "base_uri": "https://localhost:8080/"
        }
      },
      "source": [
        "mydict = {\n",
        "  \"Бренд\": \"Apple\",\n",
        "  \"Модель\": \"iPhone 12 Pro Max\",\n",
        "  \"Год выпуска\": 2000,\n",
        "  \"Год выпуска\": 2020\n",
        "}\n",
        "print(mydict)"
      ],
      "execution_count": 9,
      "outputs": [
        {
          "output_type": "stream",
          "text": [
            "{'Бренд': 'Apple', 'Модель': 'iPhone 12 Pro Max', 'Год выпуска': 2020}\n"
          ],
          "name": "stdout"
        }
      ]
    },
    {
      "cell_type": "code",
      "metadata": {
        "id": "KUEkj5hUJPVG",
        "outputId": "28dd3cb6-9743-477c-a452-318affa297b8",
        "colab": {
          "base_uri": "https://localhost:8080/"
        }
      },
      "source": [
        "mydict = {\n",
        "  \"Бренд\": \"Apple\",\n",
        "  \"Модель\": \"iPhone 12 Pro Max\",\n",
        "  \"Год выпуска\": 2000,\n",
        "  \"Год выпуска\": 2020\n",
        "}\n",
        "print(len(mydict))"
      ],
      "execution_count": 11,
      "outputs": [
        {
          "output_type": "stream",
          "text": [
            "3\n"
          ],
          "name": "stdout"
        }
      ]
    },
    {
      "cell_type": "code",
      "metadata": {
        "id": "kc3xrL_SJkdL",
        "outputId": "9d3008ba-538e-42ad-b708-713a45f51acc",
        "colab": {
          "base_uri": "https://localhost:8080/"
        }
      },
      "source": [
        "mydict = {\n",
        "  \"Бренд\": \"Apple\",\n",
        "  \"Модель\": \"iPhone 12 Pro Max\",\n",
        "  \"Новый\": False,\n",
        "  \"Год выпуска\": 2020,\n",
        "  \"Цвета\": [\"Белый\", \"Серый\", \"Красный\"]\n",
        "}\n",
        "print(mydict)"
      ],
      "execution_count": 17,
      "outputs": [
        {
          "output_type": "stream",
          "text": [
            "{'Бренд': 'Apple', 'Модель': 'iPhone 12 Pro Max', 2: False, 'Год выпуска': 2020, 'Цвета': ['Белый', 'Серый', 'Красный']}\n"
          ],
          "name": "stdout"
        }
      ]
    },
    {
      "cell_type": "markdown",
      "metadata": {
        "id": "yHJdlHSoKf3d"
      },
      "source": [
        "доступ к элементам"
      ]
    },
    {
      "cell_type": "code",
      "metadata": {
        "id": "__PNiCtbKjW1",
        "outputId": "f839fcb0-df66-4ce8-97f8-cb21681d9201",
        "colab": {
          "base_uri": "https://localhost:8080/"
        }
      },
      "source": [
        "mydict = {\n",
        "  \"Бренд\": \"Apple\",\n",
        "  \"Модель\": \"iPhone 12 Pro Max\",\n",
        "  2 : False,\n",
        "  \"Год выпуска\": 2020,\n",
        "  \"Цвета\": [\"Белый\", \"Серый\", \"Красный\"]\n",
        "}\n",
        "print(mydict[\"Бренд\"])\n",
        "print(mydict[2])\n",
        "print(mydict.get(\"Бренд\"))"
      ],
      "execution_count": 22,
      "outputs": [
        {
          "output_type": "stream",
          "text": [
            "Apple\n",
            "False\n",
            "Apple\n"
          ],
          "name": "stdout"
        }
      ]
    },
    {
      "cell_type": "code",
      "metadata": {
        "id": "ktJ7U_9WLdtt",
        "outputId": "ab86fde1-667b-4ccf-cf15-78b36555674e",
        "colab": {
          "base_uri": "https://localhost:8080/"
        }
      },
      "source": [
        "mydict = {\n",
        "  \"Бренд\": \"Apple\",\n",
        "  \"Модель\": \"iPhone 12 Pro Max\",\n",
        "  2 : False,\n",
        "  \"Год выпуска\": 2020,\n",
        "  \"Цвета\": [\"Белый\", \"Серый\", \"Красный\"]\n",
        "}\n",
        "print(mydict.keys())\n",
        "\n",
        "mydict[\"Количество\"] = 1\n",
        "\n",
        "print(mydict.keys())\n"
      ],
      "execution_count": 26,
      "outputs": [
        {
          "output_type": "stream",
          "text": [
            "dict_keys(['Бренд', 'Модель', 2, 'Год выпуска', 'Цвета'])\n",
            "dict_keys(['Бренд', 'Модель', 2, 'Год выпуска', 'Цвета', 'Количество'])\n"
          ],
          "name": "stdout"
        }
      ]
    },
    {
      "cell_type": "code",
      "metadata": {
        "id": "rkrf0q0OMkA2",
        "outputId": "1e1f1bd0-5e8b-4545-c90f-21edae928ffe",
        "colab": {
          "base_uri": "https://localhost:8080/"
        }
      },
      "source": [
        "mydict = {\n",
        "  \"Бренд\": \"Apple\",\n",
        "  \"Модель\": \"iPhone 12 Pro Max\",\n",
        "  2 : False,\n",
        "  \"Год выпуска\": 2020,\n",
        "  \"Цвета\": [\"Белый\", \"Серый\", \"Красный\"]\n",
        "}\n",
        "print(mydict.values())\n",
        "\n",
        "mydict[\"Количество\"] = 1\n",
        "\n",
        "print(mydict.values())"
      ],
      "execution_count": 30,
      "outputs": [
        {
          "output_type": "stream",
          "text": [
            "dict_values(['Apple', 'iPhone 12 Pro Max', False, 2020, ['Белый', 'Серый', 'Красный']])\n",
            "dict_values(['Apple', 'iPhone 12 Pro Max', False, 2020, ['Белый', 'Серый', 'Красный'], 1])\n"
          ],
          "name": "stdout"
        }
      ]
    },
    {
      "cell_type": "code",
      "metadata": {
        "colab": {
          "base_uri": "https://localhost:8080/"
        },
        "id": "f3Wdc1uVNPcF",
        "outputId": "0036cf7e-6bb5-4b3c-a72a-ec8a47bebb65"
      },
      "source": [
        "mydict = {\n",
        "  \"Бренд\": \"Apple\",\n",
        "  \"Модель\": \"iPhone 12 Pro Max\",\n",
        "  2 : False,\n",
        "  \"Год выпуска\": 2020,\n",
        "  \"Цвета\": [\"Белый\", \"Серый\", \"Красный\"]\n",
        "}\n",
        "print(mydict.items())\n",
        "\n",
        "mydict[\"Количество\"] = 1\n",
        "\n",
        "print(mydict.items())\n"
      ],
      "execution_count": 34,
      "outputs": [
        {
          "output_type": "stream",
          "text": [
            "dict_items([('Бренд', 'Apple'), ('Модель', 'iPhone 12 Pro Max'), (2, False), ('Год выпуска', 2020), ('Цвета', ['Белый', 'Серый', 'Красный'])])\n",
            "dict_items([('Бренд', 'Apple'), ('Модель', 'iPhone 12 Pro Max'), (2, False), ('Год выпуска', 2020), ('Цвета', ['Белый', 'Серый', 'Красный']), ('Количество', 1)])\n"
          ],
          "name": "stdout"
        }
      ]
    },
    {
      "cell_type": "code",
      "metadata": {
        "id": "okAB7pYvObd-",
        "outputId": "9d64e097-faee-45ec-8eb3-780da45135b9",
        "colab": {
          "base_uri": "https://localhost:8080/"
        }
      },
      "source": [
        "mydict = {\n",
        "  \"Бренд\": \"Apple\",\n",
        "  \"Модель\": \"iPhone 12 Pro Max\",\n",
        "  2 : False,\n",
        "  \"Год выпуска\": 2020,\n",
        "  \"Цвета\": [\"Белый\", \"Серый\", \"Красный\"]\n",
        "}\n",
        "if \"Бренд\" in mydict:\n",
        "  print(\"Да, Бренд в словаре\")"
      ],
      "execution_count": 36,
      "outputs": [
        {
          "output_type": "stream",
          "text": [
            "Да, Бренд в словаре\n"
          ],
          "name": "stdout"
        }
      ]
    },
    {
      "cell_type": "markdown",
      "metadata": {
        "id": "mhOlEa63O5YI"
      },
      "source": [
        "Изменение элементов"
      ]
    },
    {
      "cell_type": "code",
      "metadata": {
        "id": "N0tbUHKePFBc",
        "outputId": "0ebf212b-57e4-4a81-96f0-d9d8084825a4",
        "colab": {
          "base_uri": "https://localhost:8080/"
        }
      },
      "source": [
        "mydict = {\n",
        "  \"Бренд\": \"Apple\",\n",
        "  \"Модель\": \"iPhone 12 Pro Max\",\n",
        "  2 : False,\n",
        "  \"Год выпуска\": 2020,\n",
        "  \"Цвета\": [\"Белый\", \"Серый\", \"Красный\"]\n",
        "}\n",
        "mydict[\"Цвета\"] = \"Зеленый\"\n",
        "print(mydict)\n",
        "mydict.update({\"Цвета\":\"Коричневый\"})\n",
        "print(mydict)\n"
      ],
      "execution_count": 41,
      "outputs": [
        {
          "output_type": "stream",
          "text": [
            "{'Бренд': 'Apple', 'Модель': 'iPhone 12 Pro Max', 2: False, 'Год выпуска': 2020, 'Цвета': 'Зеленый'}\n",
            "{'Бренд': 'Apple', 'Модель': 'iPhone 12 Pro Max', 2: False, 'Год выпуска': 2020, 'Цвета': 'Коричневый'}\n"
          ],
          "name": "stdout"
        }
      ]
    },
    {
      "cell_type": "markdown",
      "metadata": {
        "id": "l9MIpX0xQnaS"
      },
      "source": [
        "Добавление элемента"
      ]
    },
    {
      "cell_type": "code",
      "metadata": {
        "id": "-RXn62TMQp6N",
        "outputId": "ec43bf12-ddec-4213-c121-3522fc793c2e",
        "colab": {
          "base_uri": "https://localhost:8080/"
        }
      },
      "source": [
        "mydict = {\n",
        "  \"Бренд\": \"Apple\",\n",
        "  \"Модель\": \"iPhone 12 Pro Max\",\n",
        "  2 : False,\n",
        "  \"Год выпуска\": 2020,\n",
        "  \"Цвета\": [\"Белый\", \"Серый\", \"Красный\"]\n",
        "}\n",
        "mydict[\"Вес\"] = \"135г.\"\n",
        "print(mydict)\n",
        "mydict.update({\"Диагональ\":\"6,7\"})\n",
        "print(mydict)"
      ],
      "execution_count": 46,
      "outputs": [
        {
          "output_type": "stream",
          "text": [
            "{'Бренд': 'Apple', 'Модель': 'iPhone 12 Pro Max', 2: False, 'Год выпуска': 2020, 'Цвета': ['Белый', 'Серый', 'Красный'], 'Вес': '135г.'}\n",
            "{'Бренд': 'Apple', 'Модель': 'iPhone 12 Pro Max', 2: False, 'Год выпуска': 2020, 'Цвета': ['Белый', 'Серый', 'Красный'], 'Вес': '135г.', 'Диагональ': '6,7'}\n"
          ],
          "name": "stdout"
        }
      ]
    },
    {
      "cell_type": "markdown",
      "metadata": {
        "id": "Ilj-KJfNR0Ti"
      },
      "source": [
        "Удаление элементов"
      ]
    },
    {
      "cell_type": "code",
      "metadata": {
        "id": "GUBWfA1SR39z",
        "outputId": "30624ae5-4c84-4439-a60c-9c108934cc47",
        "colab": {
          "base_uri": "https://localhost:8080/"
        }
      },
      "source": [
        "mydict = {\n",
        "  \"Бренд\": \"Apple\",\n",
        "  \"Модель\": \"iPhone 12 Pro Max\",\n",
        "  2 : False,\n",
        "  \"Год выпуска\": 2020,\n",
        "  \"Цвета\": [\"Белый\", \"Серый\", \"Красный\"]\n",
        "}\n",
        "mydict.pop('Цвета')\n",
        "print(mydict)\n"
      ],
      "execution_count": 49,
      "outputs": [
        {
          "output_type": "stream",
          "text": [
            "{'Бренд': 'Apple', 'Модель': 'iPhone 12 Pro Max', 2: False, 'Год выпуска': 2020}\n"
          ],
          "name": "stdout"
        }
      ]
    },
    {
      "cell_type": "code",
      "metadata": {
        "id": "3Db7p4nGSbQv",
        "outputId": "7351b407-7615-4b4d-9ec0-6d44d4a80836",
        "colab": {
          "base_uri": "https://localhost:8080/"
        }
      },
      "source": [
        "mydict = {\n",
        "  \"Бренд\": \"Apple\",\n",
        "  \"Модель\": \"iPhone 12 Pro Max\",\n",
        "  2 : False,\n",
        "  \"Год выпуска\": 2020,\n",
        "  \"Цвета\": [\"Белый\", \"Серый\", \"Красный\"]\n",
        "}\n",
        "mydict.popitem()\n",
        "print(mydict)\n"
      ],
      "execution_count": 51,
      "outputs": [
        {
          "output_type": "stream",
          "text": [
            "{'Бренд': 'Apple', 'Модель': 'iPhone 12 Pro Max', 2: False, 'Год выпуска': 2020}\n"
          ],
          "name": "stdout"
        }
      ]
    },
    {
      "cell_type": "code",
      "metadata": {
        "id": "TnY7Wmr0S3F8",
        "outputId": "e9ed53d4-a7f2-4693-8a1b-1a199da830a5",
        "colab": {
          "base_uri": "https://localhost:8080/"
        }
      },
      "source": [
        "!python --version"
      ],
      "execution_count": 52,
      "outputs": [
        {
          "output_type": "stream",
          "text": [
            "Python 3.7.10\n"
          ],
          "name": "stdout"
        }
      ]
    },
    {
      "cell_type": "code",
      "metadata": {
        "id": "8DbRv4jZTGXX",
        "outputId": "a6761c3d-b33c-4879-f95a-9bb89448beec",
        "colab": {
          "base_uri": "https://localhost:8080/"
        }
      },
      "source": [
        "mydict = {\n",
        "  \"Бренд\": \"Apple\",\n",
        "  \"Модель\": \"iPhone 12 Pro Max\",\n",
        "  2 : False,\n",
        "  \"Год выпуска\": 2020,\n",
        "  \"Цвета\": [\"Белый\", \"Серый\", \"Красный\"]\n",
        "}\n",
        "del mydict['Цвета']\n",
        "print(mydict)"
      ],
      "execution_count": 54,
      "outputs": [
        {
          "output_type": "stream",
          "text": [
            "{'Бренд': 'Apple', 'Модель': 'iPhone 12 Pro Max', 2: False, 'Год выпуска': 2020}\n"
          ],
          "name": "stdout"
        }
      ]
    },
    {
      "cell_type": "code",
      "metadata": {
        "id": "S7iIjRM9TedE",
        "outputId": "c38b81d6-f082-472b-9b25-86995c0d35db",
        "colab": {
          "base_uri": "https://localhost:8080/"
        }
      },
      "source": [
        "mydict = {\n",
        "  \"Бренд\": \"Apple\",\n",
        "  \"Модель\": \"iPhone 12 Pro Max\",\n",
        "  2 : False,\n",
        "  \"Год выпуска\": 2020,\n",
        "  \"Цвета\": [\"Белый\", \"Серый\", \"Красный\"]\n",
        "}\n",
        "mydict.clear()\n",
        "print(mydict)"
      ],
      "execution_count": 56,
      "outputs": [
        {
          "output_type": "stream",
          "text": [
            "{}\n"
          ],
          "name": "stdout"
        }
      ]
    },
    {
      "cell_type": "markdown",
      "metadata": {
        "id": "_KaUpwFzT056"
      },
      "source": [
        "Цикл по словарю\n"
      ]
    },
    {
      "cell_type": "code",
      "metadata": {
        "id": "E29grAcyTzEo",
        "outputId": "dccf9a77-8e70-48fa-9960-00c40cf8760c",
        "colab": {
          "base_uri": "https://localhost:8080/"
        }
      },
      "source": [
        "mydict = {\n",
        "  \"Бренд\": \"Apple\",\n",
        "  \"Модель\": \"iPhone 12 Pro Max\",\n",
        "  2 : False,\n",
        "  \"Год выпуска\": 2020,\n",
        "  \"Цвета\": [\"Белый\", \"Серый\", \"Красный\"]\n",
        "}\n",
        "for x in mydict:\n",
        "  print(x)"
      ],
      "execution_count": 58,
      "outputs": [
        {
          "output_type": "stream",
          "text": [
            "Бренд\n",
            "Модель\n",
            "2\n",
            "Год выпуска\n",
            "Цвета\n"
          ],
          "name": "stdout"
        }
      ]
    },
    {
      "cell_type": "code",
      "metadata": {
        "id": "WRsCoFmbUfeV",
        "outputId": "ff2b1b52-6b9e-4894-90ae-a6a9dfea5258",
        "colab": {
          "base_uri": "https://localhost:8080/"
        }
      },
      "source": [
        "mydict = {\n",
        "  \"Бренд\": \"Apple\",\n",
        "  \"Модель\": \"iPhone 12 Pro Max\",\n",
        "  2 : False,\n",
        "  \"Год выпуска\": 2020,\n",
        "  \"Цвета\": [\"Белый\", \"Серый\", \"Красный\"]\n",
        "}\n",
        "for x in mydict:\n",
        "  print(mydict[x])"
      ],
      "execution_count": 60,
      "outputs": [
        {
          "output_type": "stream",
          "text": [
            "Apple\n",
            "iPhone 12 Pro Max\n",
            "False\n",
            "2020\n",
            "['Белый', 'Серый', 'Красный']\n"
          ],
          "name": "stdout"
        }
      ]
    },
    {
      "cell_type": "code",
      "metadata": {
        "id": "j6jGmdJjUwgu",
        "outputId": "20833743-569f-496d-b853-a8d7608d4ae5",
        "colab": {
          "base_uri": "https://localhost:8080/"
        }
      },
      "source": [
        "mydict = {\n",
        "  \"Бренд\": \"Apple\",\n",
        "  \"Модель\": \"iPhone 12 Pro Max\",\n",
        "  2 : False,\n",
        "  \"Год выпуска\": 2020,\n",
        "  \"Цвета\": [\"Белый\", \"Серый\", \"Красный\"]\n",
        "}\n",
        "for x in mydict.values():\n",
        "  print(x)"
      ],
      "execution_count": 62,
      "outputs": [
        {
          "output_type": "stream",
          "text": [
            "Apple\n",
            "iPhone 12 Pro Max\n",
            "False\n",
            "2020\n",
            "['Белый', 'Серый', 'Красный']\n"
          ],
          "name": "stdout"
        }
      ]
    },
    {
      "cell_type": "code",
      "metadata": {
        "id": "PBM9KM9DVIsP",
        "outputId": "317f2db2-e944-49b9-ae3c-7eba90f8022d",
        "colab": {
          "base_uri": "https://localhost:8080/"
        }
      },
      "source": [
        "mydict = {\n",
        "  \"Бренд\": \"Apple\",\n",
        "  \"Модель\": \"iPhone 12 Pro Max\",\n",
        "  2 : False,\n",
        "  \"Год выпуска\": 2020,\n",
        "  \"Цвета\": [\"Белый\", \"Серый\", \"Красный\"]\n",
        "}\n",
        "for x in mydict.keys():\n",
        "  print(x)"
      ],
      "execution_count": 64,
      "outputs": [
        {
          "output_type": "stream",
          "text": [
            "Бренд\n",
            "Модель\n",
            "2\n",
            "Год выпуска\n",
            "Цвета\n"
          ],
          "name": "stdout"
        }
      ]
    },
    {
      "cell_type": "code",
      "metadata": {
        "id": "btwDAgesVYke",
        "outputId": "e8ac787d-2bdf-4b12-b66a-0efeae3bc9ae",
        "colab": {
          "base_uri": "https://localhost:8080/"
        }
      },
      "source": [
        "mydict = {\n",
        "  \"Бренд\": \"Apple\",\n",
        "  \"Модель\": \"iPhone 12 Pro Max\",\n",
        "  2 : False,\n",
        "  \"Год выпуска\": 2020,\n",
        "  \"Цвета\": [\"Белый\", \"Серый\", \"Красный\"]\n",
        "}\n",
        "for x,y in mydict.items():\n",
        "  print(x,y)"
      ],
      "execution_count": 70,
      "outputs": [
        {
          "output_type": "stream",
          "text": [
            "Бренд Apple\n",
            "Модель iPhone 12 Pro Max\n",
            "2 False\n",
            "Год выпуска 2020\n",
            "Цвета ['Белый', 'Серый', 'Красный']\n"
          ],
          "name": "stdout"
        }
      ]
    },
    {
      "cell_type": "code",
      "metadata": {
        "id": "GE6zf2YiV8Ji",
        "outputId": "d9eac122-6583-420b-b1a3-4c214935dafc",
        "colab": {
          "base_uri": "https://localhost:8080/"
        }
      },
      "source": [
        "mydict = {\n",
        "  \"Бренд\": \"Apple\",\n",
        "  \"Модель\": \"iPhone 12 Pro Max\",\n",
        "  2 : False,\n",
        "  \"Год выпуска\": 2020,\n",
        "  \"Цвета\": [\"Белый\", \"Серый\", \"Красный\"]\n",
        "}\n",
        "for x in mydict.items():\n",
        "  print(x)"
      ],
      "execution_count": 71,
      "outputs": [
        {
          "output_type": "stream",
          "text": [
            "('Бренд', 'Apple')\n",
            "('Модель', 'iPhone 12 Pro Max')\n",
            "(2, False)\n",
            "('Год выпуска', 2020)\n",
            "('Цвета', ['Белый', 'Серый', 'Красный'])\n"
          ],
          "name": "stdout"
        }
      ]
    },
    {
      "cell_type": "markdown",
      "metadata": {
        "id": "q2jS1pjxWFlw"
      },
      "source": [
        "Копирование словарей"
      ]
    },
    {
      "cell_type": "code",
      "metadata": {
        "id": "tUV4EHBIWWSp",
        "outputId": "34a0b503-7cba-47ab-b6f2-628eaed89165",
        "colab": {
          "base_uri": "https://localhost:8080/"
        }
      },
      "source": [
        "#второй словарь только ссылается на первый, но не копирует его\n",
        "mydict1 = {\n",
        "  \"Бренд\": \"Ap323233232ple\",\n",
        "  \"Модель\": \"iPhone 12 Pro Max\",\n",
        "  2 : False,\n",
        "  \"Год выпуска\": 2020,\n",
        "  \"Цвета\": [\"Белый\", \"Серый\", \"Красный\"]\n",
        "}\n",
        "mydict2 = mydict1\n",
        "print(mydict2)"
      ],
      "execution_count": 73,
      "outputs": [
        {
          "output_type": "stream",
          "text": [
            "{'Бренд': 'Ap323233232ple', 'Модель': 'iPhone 12 Pro Max', 2: False, 'Год выпуска': 2020, 'Цвета': ['Белый', 'Серый', 'Красный']}\n"
          ],
          "name": "stdout"
        }
      ]
    },
    {
      "cell_type": "code",
      "metadata": {
        "id": "6EFWUPj4XBOK",
        "outputId": "9da97e25-b310-4f2e-99f6-b034742fae23",
        "colab": {
          "base_uri": "https://localhost:8080/"
        }
      },
      "source": [
        "mydict1 = {\n",
        "  \"Бренд\": \"Apple\",\n",
        "  \"Модель\": \"iPhone 12 Pro Max\",\n",
        "  2 : False,\n",
        "  \"Год выпуска\": 2020,\n",
        "  \"Цвета\": [\"Белый\", \"Серый\", \"Красный\"]\n",
        "}\n",
        "mydict2 = mydict1.copy()\n",
        "print(mydict2)\n",
        "mydict1[\"Год выпуска\"] = 22222\n",
        "print(mydict1)\n",
        "print(mydict2)\n"
      ],
      "execution_count": 78,
      "outputs": [
        {
          "output_type": "stream",
          "text": [
            "{'Бренд': 'Apple', 'Модель': 'iPhone 12 Pro Max', 2: False, 'Год выпуска': 2020, 'Цвета': ['Белый', 'Серый', 'Красный']}\n",
            "{'Бренд': 'Apple', 'Модель': 'iPhone 12 Pro Max', 2: False, 'Год выпуска': 22222, 'Цвета': ['Белый', 'Серый', 'Красный']}\n",
            "{'Бренд': 'Apple', 'Модель': 'iPhone 12 Pro Max', 2: False, 'Год выпуска': 2020, 'Цвета': ['Белый', 'Серый', 'Красный']}\n"
          ],
          "name": "stdout"
        }
      ]
    },
    {
      "cell_type": "code",
      "metadata": {
        "id": "WmUlxtBzYEqx",
        "outputId": "c5849c5c-4669-4667-97f7-e132cb27fb6a",
        "colab": {
          "base_uri": "https://localhost:8080/"
        }
      },
      "source": [
        "mydict1 = {\n",
        "  \"Бренд\": \"Apple\",\n",
        "  \"Модель\": \"iPhone 12 Pro Max\",\n",
        "  2 : False,\n",
        "  \"Год выпуска\": 2020,\n",
        "  \"Цвета\": [\"Белый\", \"Серый\", \"Красный\"]\n",
        "}\n",
        "mydict2 = dict(mydict1)\n",
        "print(mydict2)\n"
      ],
      "execution_count": 80,
      "outputs": [
        {
          "output_type": "stream",
          "text": [
            "{'Бренд': 'Apple', 'Модель': 'iPhone 12 Pro Max', 2: False, 'Год выпуска': 2020, 'Цвета': ['Белый', 'Серый', 'Красный']}\n"
          ],
          "name": "stdout"
        }
      ]
    },
    {
      "cell_type": "markdown",
      "metadata": {
        "id": "wDmPg1vvYX2U"
      },
      "source": [
        "Вложенные словари\n"
      ]
    },
    {
      "cell_type": "code",
      "metadata": {
        "id": "kmsqqUDTYYUZ",
        "outputId": "6c2a4950-3728-4f0a-816a-3103394e0326",
        "colab": {
          "base_uri": "https://localhost:8080/"
        }
      },
      "source": [
        "mydict = {\n",
        "  \"child_dict1\" : {\"Бренд\": \"Apple\",\n",
        "  \"Модель\": \"iPhone 12 Pro Max\",\n",
        "  2 : False,\n",
        "  \"Год выпуска\": 2020,\n",
        "  \"Цвета\": [\"Белый\", \"Серый\", \"Красный\"],},\n",
        "\n",
        "  \"child_dict2\" : {\"Разрешение\": \"2778x1284\",\n",
        "                   \"Контрастность\": \"2000000:1\",\n",
        "                   \"Тип дисплея\": \"OLED\"},\n",
        "\n",
        "  \"child_dict3\" : {\"Разрешение камеры\": \"12 Мп\",\n",
        "                   \"Тип объектива\": \"широкоугольный, сверхширокоугольный, телефото\",\n",
        "                   \"Технологии камеры\": \"LIDAR\"}\n",
        "}\n",
        "print(mydict)"
      ],
      "execution_count": 83,
      "outputs": [
        {
          "output_type": "stream",
          "text": [
            "{'child_dict1': {'Бренд': 'Apple', 'Модель': 'iPhone 12 Pro Max', 2: False, 'Год выпуска': 2020, 'Цвета': ['Белый', 'Серый', 'Красный']}, 'child_dict2': {'Разрешение': '2778x1284', 'Контрастность': '2000000:1', 'Тип дисплея': 'OLED'}, 'child_dict3': {'Разрешение камеры': '12 Мп', 'Тип объектива': 'широкоугольный, сверхширокоугольный, телефото', 'Технологии камеры': 'LIDAR'}}\n"
          ],
          "name": "stdout"
        }
      ]
    },
    {
      "cell_type": "code",
      "metadata": {
        "id": "nAI-vNhxbczi",
        "outputId": "aaa8c806-0322-488e-93bf-352dfc035b25",
        "colab": {
          "base_uri": "https://localhost:8080/"
        }
      },
      "source": [
        "mydict = {\n",
        "  \"child_dict1\" : {\"Бренд\": \"Apple\",\n",
        "  \"Модель\": \"iPhone 12 Pro Max\",\n",
        "  2 : False,\n",
        "  \"Год выпуска\": 2020,\n",
        "  \"Цвета\": [\"Белый\", \"Серый\", \"Красный\"],},\n",
        "\n",
        "  \"child_dict2\" : {\"Разрешение\": \"2778x1284\",\n",
        "                   \"Контрастность\": \"2000000:1\",\n",
        "                   \"Тип дисплея\": \"OLED\"},\n",
        "\n",
        "  \"child_dict3\" : {\"Разрешение камеры\": \"12 Мп\",\n",
        "                   \"Тип объектива\": \"широкоугольный, сверхширокоугольный, телефото\",\n",
        "                   \"Технологии камеры\": \"LIDAR\"}\n",
        "}\n",
        "print(len(mydict))"
      ],
      "execution_count": 84,
      "outputs": [
        {
          "output_type": "stream",
          "text": [
            "3\n"
          ],
          "name": "stdout"
        }
      ]
    },
    {
      "cell_type": "code",
      "metadata": {
        "id": "inPbqqlpbqeL",
        "outputId": "74135c73-419e-4a20-8c77-ace0829c89b0",
        "colab": {
          "base_uri": "https://localhost:8080/"
        }
      },
      "source": [
        "child_dict1 = {\"Бренд\": \"Apple\",\n",
        "  \"Модель\": \"iPhone 12 Pro Max\",\n",
        "  2 : False,\n",
        "  \"Год выпуска\": 2020,\n",
        "  \"Цвета\": [\"Белый\", \"Серый\", \"Красный\"],}\n",
        "\n",
        "child_dict2 =  {\"Разрешение\": \"2778x1284\",\n",
        "                   \"Контрастность\": \"2000000:1\",\n",
        "                   \"Тип дисплея\": \"OLED\"}\n",
        "child_dict3 = {\"Разрешение камеры\": \"12 Мп\",\n",
        "                   \"Тип объектива\": \"широкоугольный, сверхширокоугольный, телефото\",\n",
        "                   \"Технологии камеры\": \"LIDAR\"}\n",
        "\n",
        "mydict = {\n",
        "  \"child1\" : child_dict1,\n",
        "  \"child2\" : child_dict2,\n",
        "  \"child3\" : child_dict3\n",
        "}\n",
        "print(mydict)"
      ],
      "execution_count": 87,
      "outputs": [
        {
          "output_type": "stream",
          "text": [
            "{'child1': {'Бренд': 'Apple', 'Модель': 'iPhone 12 Pro Max', 2: False, 'Год выпуска': 2020, 'Цвета': ['Белый', 'Серый', 'Красный']}, 'child2': {'Разрешение': '2778x1284', 'Контрастность': '2000000:1', 'Тип дисплея': 'OLED'}, 'child3': {'Разрешение камеры': '12 Мп', 'Тип объектива': 'широкоугольный, сверхширокоугольный, телефото', 'Технологии камеры': 'LIDAR'}}\n"
          ],
          "name": "stdout"
        }
      ]
    },
    {
      "cell_type": "markdown",
      "metadata": {
        "id": "4i60e9tJdF7f"
      },
      "source": [
        "**Альтернативные** **типы** **данных**\n",
        "\n"
      ]
    },
    {
      "cell_type": "markdown",
      "metadata": {
        "id": "cLe7h5bndomK"
      },
      "source": [
        "OrderedDict"
      ]
    },
    {
      "cell_type": "code",
      "metadata": {
        "id": "ACvST3MqdHAZ",
        "outputId": "481b67fe-adfe-433f-b1cf-113321a0461a",
        "colab": {
          "base_uri": "https://localhost:8080/"
        }
      },
      "source": [
        "import collections\n",
        "dictionary = collections.OrderedDict({'hydrogen': 1, 'helium': 2, 'carbon': 6, 'oxygen': 8})\n",
        "print(type(dictionary))"
      ],
      "execution_count": 89,
      "outputs": [
        {
          "output_type": "stream",
          "text": [
            "<class 'collections.OrderedDict'>\n"
          ],
          "name": "stdout"
        }
      ]
    },
    {
      "cell_type": "code",
      "metadata": {
        "id": "xSe4uXyCewIf",
        "outputId": "fff98112-b728-4389-c995-067002f41173",
        "colab": {
          "base_uri": "https://localhost:8080/"
        }
      },
      "source": [
        "import collections\n",
        "dictionary = collections.OrderedDict({'hydrogen': 1, 'helium': 2, 'carbon': 6, 'oxygen': 8})\n",
        "print(dictionary)"
      ],
      "execution_count": 90,
      "outputs": [
        {
          "output_type": "stream",
          "text": [
            "OrderedDict([('hydrogen', 1), ('helium', 2), ('carbon', 6), ('oxygen', 8)])\n"
          ],
          "name": "stdout"
        }
      ]
    },
    {
      "cell_type": "markdown",
      "metadata": {
        "id": "rDQJ2-LcfD08"
      },
      "source": [
        "defaultdict"
      ]
    },
    {
      "cell_type": "markdown",
      "metadata": {
        "id": "BO0aONejfs45"
      },
      "source": [
        "Counter"
      ]
    },
    {
      "cell_type": "markdown",
      "metadata": {
        "id": "qSt2MJxugWYM"
      },
      "source": [
        "**Создание DataFrame из словаря**"
      ]
    },
    {
      "cell_type": "markdown",
      "metadata": {
        "id": "mZEt7FxagYCd"
      },
      "source": [
        "Pandas"
      ]
    }
  ]
}