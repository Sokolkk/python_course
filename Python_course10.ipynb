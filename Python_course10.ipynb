{
  "nbformat": 4,
  "nbformat_minor": 0,
  "metadata": {
    "colab": {
      "name": "Python_course.ipynb",
      "provenance": [],
      "authorship_tag": "ABX9TyMV4KFpxeXP8LY3Fw+qq4rJ",
      "include_colab_link": true
    },
    "kernelspec": {
      "name": "python3",
      "display_name": "Python 3"
    },
    "language_info": {
      "name": "python"
    }
  },
  "cells": [
    {
      "cell_type": "markdown",
      "metadata": {
        "id": "view-in-github",
        "colab_type": "text"
      },
      "source": [
        "<a href=\"https://colab.research.google.com/github/Sokolkk/python_course/blob/main/Python_course10.ipynb\" target=\"_parent\"><img src=\"https://colab.research.google.com/assets/colab-badge.svg\" alt=\"Open In Colab\"/></a>"
      ]
    },
    {
      "cell_type": "markdown",
      "metadata": {
        "id": "f81dnrHemOso"
      },
      "source": [
        "#Функции"
      ]
    },
    {
      "cell_type": "markdown",
      "metadata": {
        "id": "sQwB6DQTowYX"
      },
      "source": [
        "Создание функции"
      ]
    },
    {
      "cell_type": "code",
      "metadata": {
        "colab": {
          "base_uri": "https://localhost:8080/"
        },
        "id": "KDQToD7H6em3",
        "outputId": "a2779c53-8ac3-4868-e81c-9203d24abe7d"
      },
      "source": [
        "def my_function():\n",
        "  print(\"Привет из функции\")\n",
        "my_function()"
      ],
      "execution_count": 4,
      "outputs": [
        {
          "output_type": "stream",
          "text": [
            "Привет из функции\n"
          ],
          "name": "stdout"
        }
      ]
    },
    {
      "cell_type": "markdown",
      "metadata": {
        "id": "PPMYWLGWphky"
      },
      "source": [
        "Аргументы "
      ]
    },
    {
      "cell_type": "code",
      "metadata": {
        "colab": {
          "base_uri": "https://localhost:8080/"
        },
        "id": "ZluXMoMBpgkM",
        "outputId": "14b3079c-baf1-486a-8a17-a0271f21dde7"
      },
      "source": [
        "def my_function(numbers):\n",
        "  print(str(numbers) + \" это число\")\n",
        "\n",
        "my_function(1)\n",
        "my_function(2)\n",
        "my_function(3)"
      ],
      "execution_count": 10,
      "outputs": [
        {
          "output_type": "stream",
          "text": [
            "1 это число\n",
            "2 это число\n",
            "3 это число\n"
          ],
          "name": "stdout"
        }
      ]
    },
    {
      "cell_type": "code",
      "metadata": {
        "colab": {
          "base_uri": "https://localhost:8080/"
        },
        "id": "40oh47uSrI7T",
        "outputId": "0c7594c2-79fc-4dd1-e8c9-f9b26bb13cc2"
      },
      "source": [
        "def my_function(fname, lname):\n",
        "  print(fname + \" \" + lname)\n",
        "\n",
        "my_function(\"Иван\", \"Иванов\")"
      ],
      "execution_count": 13,
      "outputs": [
        {
          "output_type": "stream",
          "text": [
            "Иван Иванов\n"
          ],
          "name": "stdout"
        }
      ]
    },
    {
      "cell_type": "markdown",
      "metadata": {
        "id": "n5aVSRTvrtFA"
      },
      "source": [
        "Произвольные аргументы *args"
      ]
    },
    {
      "cell_type": "code",
      "metadata": {
        "colab": {
          "base_uri": "https://localhost:8080/"
        },
        "id": "UXvB-Ifwr_sg",
        "outputId": "a45a7470-5788-468e-d9a4-3ebb1824115d"
      },
      "source": [
        "def my_function(*kids):\n",
        "  print(\"Самый старший \" + kids[2])\n",
        "\n",
        "my_function(\"Вася\", \"Петя\", \"Коля\")"
      ],
      "execution_count": 14,
      "outputs": [
        {
          "output_type": "stream",
          "text": [
            "Самый старший Коля\n"
          ],
          "name": "stdout"
        }
      ]
    },
    {
      "cell_type": "markdown",
      "metadata": {
        "id": "HXgD9yKisosp"
      },
      "source": [
        "Ключевые значения kwargs"
      ]
    },
    {
      "cell_type": "code",
      "metadata": {
        "colab": {
          "base_uri": "https://localhost:8080/"
        },
        "id": "Rn2nzhU5suL7",
        "outputId": "279c50c0-da8f-4ed8-d43a-3df2f4aafdfe"
      },
      "source": [
        "def my_function(child3, child2, child1):\n",
        "  print(\"Самый старший \" + child3)\n",
        "\n",
        "my_function(child1 = \"Вася\", child2 = \"Петя\", child3 = \"Коля\")"
      ],
      "execution_count": 16,
      "outputs": [
        {
          "output_type": "stream",
          "text": [
            "Самый старший Коля\n"
          ],
          "name": "stdout"
        }
      ]
    },
    {
      "cell_type": "markdown",
      "metadata": {
        "id": "fs92Vlzjtlku"
      },
      "source": [
        "Произвольные ключевые аргументы  ** kwargs\n",
        "\n"
      ]
    },
    {
      "cell_type": "code",
      "metadata": {
        "colab": {
          "base_uri": "https://localhost:8080/"
        },
        "id": "nxJ-lUkIt5jh",
        "outputId": "c6ae2854-1e34-4b9a-b422-bf22b1de6abf"
      },
      "source": [
        "def my_function(**kid):\n",
        "  print(\"Его фамилия \" + kid[\"lname\"])\n",
        "\n",
        "my_function(fname = \"Иван\", lname = \"Иванов\")"
      ],
      "execution_count": 17,
      "outputs": [
        {
          "output_type": "stream",
          "text": [
            "Его фамилия Иванов\n"
          ],
          "name": "stdout"
        }
      ]
    },
    {
      "cell_type": "markdown",
      "metadata": {
        "id": "4nLmONiBuiFB"
      },
      "source": [
        "Значение параметра по умолчанию\n"
      ]
    },
    {
      "cell_type": "code",
      "metadata": {
        "colab": {
          "base_uri": "https://localhost:8080/"
        },
        "id": "ljweoeNeuj1V",
        "outputId": "8d682cdd-23b1-4f98-b638-d9a00a485667"
      },
      "source": [
        "def my_function(city = \"Москва\"):\n",
        "  print(\"Я из \" + city)\n",
        "\n",
        "my_function(\"Санкт-Петербург\")\n",
        "my_function(\"Новосибирск\")\n",
        "my_function()\n",
        "my_function(\"Екатеринбург\")"
      ],
      "execution_count": 19,
      "outputs": [
        {
          "output_type": "stream",
          "text": [
            "Я из Санкт-Петербург\n",
            "Я из Новосибирск\n",
            "Я из Москва\n",
            "Я из Екатеринбург\n"
          ],
          "name": "stdout"
        }
      ]
    },
    {
      "cell_type": "markdown",
      "metadata": {
        "id": "eV3Fd9zhvT2k"
      },
      "source": [
        "Передача списка в качестве аргумента\n"
      ]
    },
    {
      "cell_type": "code",
      "metadata": {
        "colab": {
          "base_uri": "https://localhost:8080/"
        },
        "id": "EwZf9iCjvmXt",
        "outputId": "39b22967-5f24-4128-a1b7-5824aac54150"
      },
      "source": [
        "def my_function(food):\n",
        "  for x in food:\n",
        "    print(x)\n",
        "\n",
        "fruits = [\"Яблоко\", \"Банан\", \"Апельсин\"]\n",
        "\n",
        "my_function(fruits)"
      ],
      "execution_count": 20,
      "outputs": [
        {
          "output_type": "stream",
          "text": [
            "Яблоко\n",
            "Банан\n",
            "Апельсин\n"
          ],
          "name": "stdout"
        }
      ]
    },
    {
      "cell_type": "markdown",
      "metadata": {
        "id": "KkT6_Lj_wDUr"
      },
      "source": [
        "Возвращаемые значения\n"
      ]
    },
    {
      "cell_type": "code",
      "metadata": {
        "colab": {
          "base_uri": "https://localhost:8080/"
        },
        "id": "deOmGQeBwDuN",
        "outputId": "d80058af-8d50-4875-c496-551bef731ffe"
      },
      "source": [
        "def my_function(x):\n",
        "  return 5 * x\n",
        "\n",
        "print(my_function(3))\n",
        "print(my_function(5))\n",
        "print(my_function(9))"
      ],
      "execution_count": 24,
      "outputs": [
        {
          "output_type": "stream",
          "text": [
            "15\n",
            "25\n",
            "45\n"
          ],
          "name": "stdout"
        }
      ]
    },
    {
      "cell_type": "markdown",
      "metadata": {
        "id": "gPot4H5txE3i"
      },
      "source": [
        "Заявление о пропуске\n"
      ]
    },
    {
      "cell_type": "code",
      "metadata": {
        "id": "z2r5UykcxG65"
      },
      "source": [
        "def my_function(x):\n",
        "  pass"
      ],
      "execution_count": 26,
      "outputs": []
    },
    {
      "cell_type": "markdown",
      "metadata": {
        "id": "c8xxGeEUxYbO"
      },
      "source": [
        "Рекурсия"
      ]
    },
    {
      "cell_type": "code",
      "metadata": {
        "colab": {
          "base_uri": "https://localhost:8080/"
        },
        "id": "IRqdOpyDxawF",
        "outputId": "dc470f01-4844-4a73-c8ae-41c0b8b2d0d5"
      },
      "source": [
        "def tri_recursion(k):\n",
        "  if(k > 0):\n",
        "    result = k + tri_recursion(k - 1)\n",
        "    print(result)\n",
        "  else:\n",
        "    result = 0\n",
        "  return result\n",
        "\n",
        "print(\"\\n\\nRecursion Example Results\")\n",
        "tri_recursion(6)"
      ],
      "execution_count": 28,
      "outputs": [
        {
          "output_type": "stream",
          "text": [
            "\n",
            "\n",
            "Recursion Example Results\n",
            "1\n",
            "3\n",
            "6\n",
            "10\n",
            "15\n",
            "21\n"
          ],
          "name": "stdout"
        },
        {
          "output_type": "execute_result",
          "data": {
            "text/plain": [
              "21"
            ]
          },
          "metadata": {
            "tags": []
          },
          "execution_count": 28
        }
      ]
    }
  ]
}