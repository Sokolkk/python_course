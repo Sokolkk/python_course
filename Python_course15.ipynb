{
  "nbformat": 4,
  "nbformat_minor": 0,
  "metadata": {
    "colab": {
      "name": "Python_course.ipynb",
      "provenance": [],
      "authorship_tag": "ABX9TyPx3XKsVNnM94j45FULXEiJ",
      "include_colab_link": true
    },
    "kernelspec": {
      "name": "python3",
      "display_name": "Python 3"
    },
    "language_info": {
      "name": "python"
    }
  },
  "cells": [
    {
      "cell_type": "markdown",
      "metadata": {
        "id": "view-in-github",
        "colab_type": "text"
      },
      "source": [
        "<a href=\"https://colab.research.google.com/github/Sokolkk/python_course/blob/main/Python_course15.ipynb\" target=\"_parent\"><img src=\"https://colab.research.google.com/assets/colab-badge.svg\" alt=\"Open In Colab\"/></a>"
      ]
    },
    {
      "cell_type": "markdown",
      "metadata": {
        "id": "v-mzP5S8fRVN"
      },
      "source": [
        "#Область видимости python"
      ]
    },
    {
      "cell_type": "markdown",
      "metadata": {
        "id": "0OrsKoDXggmx"
      },
      "source": [
        "Локальные переменные"
      ]
    },
    {
      "cell_type": "code",
      "metadata": {
        "colab": {
          "base_uri": "https://localhost:8080/"
        },
        "id": "iTfbTyGDfXW6",
        "outputId": "8c59f034-3c44-41c4-c3f4-cdc597017be5"
      },
      "source": [
        "def myfunc():\n",
        "  x = 500\n",
        "  print(x)\n",
        "\n",
        "myfunc()"
      ],
      "execution_count": 9,
      "outputs": [
        {
          "output_type": "stream",
          "text": [
            "500\n"
          ],
          "name": "stdout"
        }
      ]
    },
    {
      "cell_type": "code",
      "metadata": {
        "colab": {
          "base_uri": "https://localhost:8080/"
        },
        "id": "LEIDoItshSeC",
        "outputId": "853c5775-fbc0-42ff-a92b-9ec57eae1f32"
      },
      "source": [
        "def myfunc():\n",
        "  x = 500\n",
        "  def myinnerfunc():\n",
        "    print(x)\n",
        "  myinnerfunc()\n",
        "\n",
        "myfunc()"
      ],
      "execution_count": 11,
      "outputs": [
        {
          "output_type": "stream",
          "text": [
            "500\n"
          ],
          "name": "stdout"
        }
      ]
    },
    {
      "cell_type": "markdown",
      "metadata": {
        "id": "FEwPtLlxhjWH"
      },
      "source": [
        "Глобальные переменные"
      ]
    },
    {
      "cell_type": "code",
      "metadata": {
        "colab": {
          "base_uri": "https://localhost:8080/"
        },
        "id": "-DUa5eLChmWK",
        "outputId": "d47efc03-3b43-4bff-951d-565899778a57"
      },
      "source": [
        "x = 500\n",
        "\n",
        "def myfunc():\n",
        "  print(x)\n",
        "\n",
        "myfunc()"
      ],
      "execution_count": 12,
      "outputs": [
        {
          "output_type": "stream",
          "text": [
            "500\n"
          ],
          "name": "stdout"
        }
      ]
    },
    {
      "cell_type": "code",
      "metadata": {
        "colab": {
          "base_uri": "https://localhost:8080/"
        },
        "id": "wbLCeGt2h_23",
        "outputId": "87ab10ce-e66c-420e-98f4-3023a3a62ce1"
      },
      "source": [
        "x = 500\n",
        "\n",
        "def myfunc():\n",
        "  x = 400\n",
        "  print(x)\n",
        "\n",
        "myfunc()\n",
        "\n",
        "print(x)"
      ],
      "execution_count": 16,
      "outputs": [
        {
          "output_type": "stream",
          "text": [
            "400\n",
            "500\n"
          ],
          "name": "stdout"
        }
      ]
    },
    {
      "cell_type": "markdown",
      "metadata": {
        "id": "4HllmrDFiZJO"
      },
      "source": [
        "ключевое слово global\n"
      ]
    },
    {
      "cell_type": "code",
      "metadata": {
        "colab": {
          "base_uri": "https://localhost:8080/"
        },
        "id": "2LkTQws9idpC",
        "outputId": "12fd5045-c06e-473e-bbce-a2bc924b8645"
      },
      "source": [
        "x = 5\n",
        "def myfunc():\n",
        "  global x\n",
        "  x = 500\n",
        "\n",
        "myfunc()\n",
        "\n",
        "print(x)"
      ],
      "execution_count": 18,
      "outputs": [
        {
          "output_type": "stream",
          "text": [
            "500\n"
          ],
          "name": "stdout"
        }
      ]
    }
  ]
}