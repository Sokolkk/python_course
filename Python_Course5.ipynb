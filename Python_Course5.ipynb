{
  "nbformat": 4,
  "nbformat_minor": 0,
  "metadata": {
    "colab": {
      "name": "Python_Course.ipynb",
      "provenance": [],
      "include_colab_link": true
    },
    "kernelspec": {
      "name": "python3",
      "display_name": "Python 3"
    },
    "language_info": {
      "name": "python"
    }
  },
  "cells": [
    {
      "cell_type": "markdown",
      "metadata": {
        "id": "view-in-github",
        "colab_type": "text"
      },
      "source": [
        "<a href=\"https://colab.research.google.com/github/Sokolkk/python_course/blob/main/Python_Course5.ipynb\" target=\"_parent\"><img src=\"https://colab.research.google.com/assets/colab-badge.svg\" alt=\"Open In Colab\"/></a>"
      ]
    },
    {
      "cell_type": "markdown",
      "metadata": {
        "id": "gZlsvoVnZt7R"
      },
      "source": [
        "**Кортежи**"
      ]
    },
    {
      "cell_type": "code",
      "metadata": {
        "id": "Pya9WWF_ZyEi",
        "outputId": "05481109-befb-4bd4-bff2-7377848b5752",
        "colab": {
          "base_uri": "https://localhost:8080/"
        }
      },
      "source": [
        "mytuple = (\"Яблоко\", \"Банан\", \"Апельсин\")\n",
        "print(mytuple)"
      ],
      "execution_count": 1,
      "outputs": [
        {
          "output_type": "stream",
          "text": [
            "('Яблоко', 'Банан', 'Апельсин')\n"
          ],
          "name": "stdout"
        }
      ]
    },
    {
      "cell_type": "code",
      "metadata": {
        "id": "-YllQhB4dAo4",
        "outputId": "c603eaca-eed3-46e9-e9bd-d936e9911cb2",
        "colab": {
          "base_uri": "https://localhost:8080/"
        }
      },
      "source": [
        "mytuple = (\"Яблоко\", \"Банан\", \"Апельсин\")\n",
        "print(type(mytuple))"
      ],
      "execution_count": 3,
      "outputs": [
        {
          "output_type": "stream",
          "text": [
            "<class 'tuple'>\n"
          ],
          "name": "stdout"
        }
      ]
    },
    {
      "cell_type": "code",
      "metadata": {
        "id": "gMfsINutdf8u",
        "outputId": "c844f490-8f28-48e0-dea7-e4180b05e1ee",
        "colab": {
          "base_uri": "https://localhost:8080/"
        }
      },
      "source": [
        "mytuple = (\"Апельсин\", \"Апельсин\", \"Апельсин\")\n",
        "print(mytuple)"
      ],
      "execution_count": 4,
      "outputs": [
        {
          "output_type": "stream",
          "text": [
            "('Апельсин', 'Апельсин', 'Апельсин')\n"
          ],
          "name": "stdout"
        }
      ]
    },
    {
      "cell_type": "code",
      "metadata": {
        "id": "6UaEX_0Wdrwm",
        "outputId": "ae973e43-d19c-43a6-eae1-326ccdc2891e",
        "colab": {
          "base_uri": "https://localhost:8080/"
        }
      },
      "source": [
        "mytuple = (\"Апельсин\", \"Апельсин\", \"Апельсин\")\n",
        "print(len(mytuple))"
      ],
      "execution_count": 5,
      "outputs": [
        {
          "output_type": "stream",
          "text": [
            "3\n"
          ],
          "name": "stdout"
        }
      ]
    },
    {
      "cell_type": "code",
      "metadata": {
        "id": "7oKSpKudd3Lz",
        "outputId": "a7fa6ae7-2a13-4dbb-d60b-3280b97672c2",
        "colab": {
          "base_uri": "https://localhost:8080/"
        }
      },
      "source": [
        "mytuple = (\"Апельсин\", )\n",
        "print(type(mytuple))"
      ],
      "execution_count": 11,
      "outputs": [
        {
          "output_type": "stream",
          "text": [
            "<class 'tuple'>\n"
          ],
          "name": "stdout"
        }
      ]
    },
    {
      "cell_type": "code",
      "metadata": {
        "id": "MwoFfdyaeZgH",
        "outputId": "64e34253-b597-4cca-ce75-f188375a89f0",
        "colab": {
          "base_uri": "https://localhost:8080/"
        }
      },
      "source": [
        "mytuple = (\"Апельсин\", 3 , True)\n",
        "print(mytuple)"
      ],
      "execution_count": 13,
      "outputs": [
        {
          "output_type": "stream",
          "text": [
            "('Апельсин', 3, True)\n"
          ],
          "name": "stdout"
        }
      ]
    },
    {
      "cell_type": "code",
      "metadata": {
        "id": "I9KRwKoTeyAS",
        "outputId": "7daac4e4-fb0e-4b17-ee44-f27d997d23a8",
        "colab": {
          "base_uri": "https://localhost:8080/"
        }
      },
      "source": [
        "mytuple = tuple((\"Апельсин\", 3 , True)) # двойные скобки\n",
        "print(mytuple[0])"
      ],
      "execution_count": 15,
      "outputs": [
        {
          "output_type": "stream",
          "text": [
            "Апельсин\n"
          ],
          "name": "stdout"
        }
      ]
    },
    {
      "cell_type": "markdown",
      "metadata": {
        "id": "en7efHw5hysu"
      },
      "source": [
        "**Изменение кортежа**"
      ]
    },
    {
      "cell_type": "code",
      "metadata": {
        "id": "787vaI50gSuo",
        "outputId": "b5baa3cf-6fdb-466a-994e-93ee2d7cf497",
        "colab": {
          "base_uri": "https://localhost:8080/"
        }
      },
      "source": [
        "mytuple = (\"Апельсин\", 3 , True)\n",
        "mylist = list(mytuple)\n",
        "mylist[1] = \"Яблоко\"\n",
        "mylist[2] = \"Банан\"\n",
        "mytuple = tuple(mylist)\n",
        "print(mytuple)"
      ],
      "execution_count": 19,
      "outputs": [
        {
          "output_type": "stream",
          "text": [
            "('Апельсин', 'Яблоко', 'Банан')\n"
          ],
          "name": "stdout"
        }
      ]
    },
    {
      "cell_type": "markdown",
      "metadata": {
        "id": "7L29PiKBh2YC"
      },
      "source": [
        "**распаковка** "
      ]
    },
    {
      "cell_type": "code",
      "metadata": {
        "id": "o3lXXh_7h86Y",
        "outputId": "1716f325-ee60-474c-8605-7ee4baa56eaa",
        "colab": {
          "base_uri": "https://localhost:8080/"
        }
      },
      "source": [
        "mytuple = (\"Апельсин\", 3 , True)\n",
        "(x,z,y) = mytuple\n",
        "print(x)\n",
        "print(z)\n",
        "print(y)"
      ],
      "execution_count": 21,
      "outputs": [
        {
          "output_type": "stream",
          "text": [
            "Апельсин\n",
            "3\n",
            "True\n"
          ],
          "name": "stdout"
        }
      ]
    },
    {
      "cell_type": "code",
      "metadata": {
        "id": "XlmGpvqeiqTz",
        "outputId": "566ea1ce-cce6-48fc-a52e-10e84238ae68",
        "colab": {
          "base_uri": "https://localhost:8080/"
        }
      },
      "source": [
        "mytuple = (\"Апельсин\", 3 , True, 4, 0)\n",
        "(x,z, *y) = mytuple\n",
        "print(x)\n",
        "print(z)\n",
        "print(y)"
      ],
      "execution_count": 23,
      "outputs": [
        {
          "output_type": "stream",
          "text": [
            "Апельсин\n",
            "3\n",
            "[True, 4, 0]\n"
          ],
          "name": "stdout"
        }
      ]
    },
    {
      "cell_type": "code",
      "metadata": {
        "id": "n9gF4cVTi8YV",
        "outputId": "e98788b2-fafe-48a1-87d1-c1658bb78c47",
        "colab": {
          "base_uri": "https://localhost:8080/"
        }
      },
      "source": [
        "mytuple = (\"Апельсин\", 3 , True, 4, 0)\n",
        "(x, *z, y) = mytuple\n",
        "print(x)\n",
        "print(z)\n",
        "print(y)"
      ],
      "execution_count": 24,
      "outputs": [
        {
          "output_type": "stream",
          "text": [
            "Апельсин\n",
            "[3, True, 4]\n",
            "0\n"
          ],
          "name": "stdout"
        }
      ]
    },
    {
      "cell_type": "code",
      "metadata": {
        "id": "cw3sFQpbjBXj",
        "outputId": "84001c08-4458-4a07-98f9-64fd18681235",
        "colab": {
          "base_uri": "https://localhost:8080/"
        }
      },
      "source": [
        "mytuple = (\"Апельсин\", 3 , True, 4, 0)\n",
        "(*x, z, y) = mytuple\n",
        "print(x)\n",
        "print(z)\n",
        "print(y)"
      ],
      "execution_count": 25,
      "outputs": [
        {
          "output_type": "stream",
          "text": [
            "['Апельсин', 3, True]\n",
            "4\n",
            "0\n"
          ],
          "name": "stdout"
        }
      ]
    },
    {
      "cell_type": "markdown",
      "metadata": {
        "id": "3i1iToMojwPp"
      },
      "source": [
        "**циклы**"
      ]
    },
    {
      "cell_type": "code",
      "metadata": {
        "id": "obxy9egDjyPm",
        "outputId": "cbe0ff01-e5e0-4410-e146-5a37dd1819a2",
        "colab": {
          "base_uri": "https://localhost:8080/"
        }
      },
      "source": [
        "thistuple = (\"apple\", \"banana\", \"cherry\")\n",
        "for x in thistuple:\n",
        "  print(x)"
      ],
      "execution_count": 27,
      "outputs": [
        {
          "output_type": "stream",
          "text": [
            "apple\n",
            "banana\n",
            "cherry\n"
          ],
          "name": "stdout"
        }
      ]
    },
    {
      "cell_type": "code",
      "metadata": {
        "id": "J_wBLOvGj9ke",
        "outputId": "d77cf191-0a83-4d0b-b74b-5c5be0af1907",
        "colab": {
          "base_uri": "https://localhost:8080/"
        }
      },
      "source": [
        "thistuple = (\"apple\", \"banana\", \"cherry\")\n",
        "for i in range(len(thistuple)):\n",
        "  print(thistuple[i])"
      ],
      "execution_count": 28,
      "outputs": [
        {
          "output_type": "stream",
          "text": [
            "apple\n",
            "banana\n",
            "cherry\n"
          ],
          "name": "stdout"
        }
      ]
    },
    {
      "cell_type": "code",
      "metadata": {
        "id": "HZMqUSTdkGmU",
        "outputId": "79881ee1-89b4-4388-e7eb-2bdd3d174df4",
        "colab": {
          "base_uri": "https://localhost:8080/"
        }
      },
      "source": [
        "thistuple = (\"apple\", \"banana\", \"cherry\")\n",
        "i = 0\n",
        "while i < len(thistuple):\n",
        "  print(thistuple[i])\n",
        "  i = i + 1"
      ],
      "execution_count": 29,
      "outputs": [
        {
          "output_type": "stream",
          "text": [
            "apple\n",
            "banana\n",
            "cherry\n"
          ],
          "name": "stdout"
        }
      ]
    },
    {
      "cell_type": "markdown",
      "metadata": {
        "id": "-zod5_hckgES"
      },
      "source": [
        "**присоединение кортежей**"
      ]
    },
    {
      "cell_type": "code",
      "metadata": {
        "id": "xvmYP_vCkbsm",
        "outputId": "2d8b74d2-eadb-4668-8167-714ab7f27814",
        "colab": {
          "base_uri": "https://localhost:8080/"
        }
      },
      "source": [
        "tuple1 = (\"a\", \"b\" , \"c\")\n",
        "tuple2 = (1, 2, 3)\n",
        "\n",
        "tuple3 = tuple1 + tuple2\n",
        "print(tuple3)"
      ],
      "execution_count": 30,
      "outputs": [
        {
          "output_type": "stream",
          "text": [
            "('a', 'b', 'c', 1, 2, 3)\n"
          ],
          "name": "stdout"
        }
      ]
    },
    {
      "cell_type": "markdown",
      "metadata": {
        "id": "MBvYf-wXkybG"
      },
      "source": [
        "**умножение**"
      ]
    },
    {
      "cell_type": "code",
      "metadata": {
        "id": "Y8irTo_NkvVP",
        "outputId": "54be86ee-d1d1-4e9f-e6fc-6b62edaa06c9",
        "colab": {
          "base_uri": "https://localhost:8080/"
        }
      },
      "source": [
        "tuple1 = (\"Апельсин\", 3 , True, 4, 0)\n",
        "tuple2 = tuple1 * 3\n",
        "\n",
        "print(tuple2)"
      ],
      "execution_count": 36,
      "outputs": [
        {
          "output_type": "stream",
          "text": [
            "('Апельсин', 3, True, 4, 0, 'Апельсин', 3, True, 4, 0, 'Апельсин', 3, True, 4, 0)\n"
          ],
          "name": "stdout"
        }
      ]
    }
  ]
}